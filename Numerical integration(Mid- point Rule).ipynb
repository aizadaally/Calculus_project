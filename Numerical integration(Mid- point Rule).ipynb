{
 "cells": [
  {
   "cell_type": "code",
   "execution_count": 80,
   "id": "dd48fe6f",
   "metadata": {},
   "outputs": [],
   "source": [
    "import numpy as np\n",
    "import sympy as sym\n",
    "import matplotlib.pyplot as plt\n",
    "%matplotlib inline\n",
    "from sympy.abc import x"
   ]
  },
  {
   "cell_type": "code",
   "execution_count": 81,
   "id": "91d85f87",
   "metadata": {},
   "outputs": [
    {
     "name": "stdout",
     "output_type": "stream",
     "text": [
      "x**3\n"
     ]
    }
   ],
   "source": [
    "f = input()"
   ]
  },
  {
   "cell_type": "code",
   "execution_count": 82,
   "id": "24e58aee",
   "metadata": {},
   "outputs": [
    {
     "data": {
      "text/plain": [
       "'x**3'"
      ]
     },
     "execution_count": 82,
     "metadata": {},
     "output_type": "execute_result"
    }
   ],
   "source": [
    "f"
   ]
  },
  {
   "cell_type": "code",
   "execution_count": 83,
   "id": "cd7f7e83",
   "metadata": {},
   "outputs": [],
   "source": [
    "fsym =sym.sympify(f)"
   ]
  },
  {
   "cell_type": "code",
   "execution_count": 84,
   "id": "6dc45957",
   "metadata": {},
   "outputs": [
    {
     "data": {
      "text/latex": [
       "$\\displaystyle x^{3}$"
      ],
      "text/plain": [
       "x**3"
      ]
     },
     "execution_count": 84,
     "metadata": {},
     "output_type": "execute_result"
    }
   ],
   "source": [
    "fsym"
   ]
  },
  {
   "cell_type": "code",
   "execution_count": 85,
   "id": "89f4973d",
   "metadata": {},
   "outputs": [],
   "source": [
    "flam = sym.lambdify(x, f)"
   ]
  },
  {
   "cell_type": "code",
   "execution_count": 86,
   "id": "5bfc5292",
   "metadata": {},
   "outputs": [
    {
     "data": {
      "text/plain": [
       "125"
      ]
     },
     "execution_count": 86,
     "metadata": {},
     "output_type": "execute_result"
    }
   ],
   "source": [
    "flam(5)"
   ]
  },
  {
   "cell_type": "code",
   "execution_count": 87,
   "id": "a575b3a2",
   "metadata": {},
   "outputs": [
    {
     "name": "stdout",
     "output_type": "stream",
     "text": [
      "0 5\n"
     ]
    }
   ],
   "source": [
    "a, b = input().split()"
   ]
  },
  {
   "cell_type": "code",
   "execution_count": 88,
   "id": "50fc74db",
   "metadata": {},
   "outputs": [],
   "source": [
    "a= int(a)\n",
    "b= int(b)"
   ]
  },
  {
   "cell_type": "code",
   "execution_count": 89,
   "id": "5c7c24f8",
   "metadata": {},
   "outputs": [
    {
     "data": {
      "text/plain": [
       "0"
      ]
     },
     "execution_count": 89,
     "metadata": {},
     "output_type": "execute_result"
    }
   ],
   "source": [
    "a"
   ]
  },
  {
   "cell_type": "code",
   "execution_count": 90,
   "id": "b0ff8cdf",
   "metadata": {},
   "outputs": [
    {
     "data": {
      "text/plain": [
       "5"
      ]
     },
     "execution_count": 90,
     "metadata": {},
     "output_type": "execute_result"
    }
   ],
   "source": [
    "b"
   ]
  },
  {
   "cell_type": "code",
   "execution_count": 91,
   "id": "106a2398",
   "metadata": {},
   "outputs": [
    {
     "name": "stdout",
     "output_type": "stream",
     "text": [
      "5\n"
     ]
    }
   ],
   "source": [
    "n= input()"
   ]
  },
  {
   "cell_type": "code",
   "execution_count": 92,
   "id": "4e4f4c0f",
   "metadata": {},
   "outputs": [],
   "source": [
    "n= int(n)"
   ]
  },
  {
   "cell_type": "code",
   "execution_count": 93,
   "id": "582013d0",
   "metadata": {},
   "outputs": [],
   "source": [
    "dx = (b-a)/n"
   ]
  },
  {
   "cell_type": "code",
   "execution_count": 94,
   "id": "f588d8e3",
   "metadata": {},
   "outputs": [
    {
     "data": {
      "text/plain": [
       "1.0"
      ]
     },
     "execution_count": 94,
     "metadata": {},
     "output_type": "execute_result"
    }
   ],
   "source": [
    "dx"
   ]
  },
  {
   "cell_type": "code",
   "execution_count": 95,
   "id": "dc59e936",
   "metadata": {},
   "outputs": [],
   "source": [
    "sum1= 0\n",
    "i= 0"
   ]
  },
  {
   "cell_type": "code",
   "execution_count": 96,
   "id": "41eaba7c",
   "metadata": {
    "scrolled": true
   },
   "outputs": [
    {
     "data": {
      "text/plain": [
       "[0.0, 1.0, 2.0, 3.0, 4.0, 5.0]"
      ]
     },
     "execution_count": 96,
     "metadata": {},
     "output_type": "execute_result"
    }
   ],
   "source": [
    "x1 = []\n",
    "for i in range(n+1):\n",
    "    x1.append(a + i * dx)\n",
    "x1"
   ]
  },
  {
   "cell_type": "code",
   "execution_count": 97,
   "id": "504dee73",
   "metadata": {},
   "outputs": [
    {
     "data": {
      "text/plain": [
       "[0.5, 1.5, 2.5, 3.5, 4.5]"
      ]
     },
     "execution_count": 97,
     "metadata": {},
     "output_type": "execute_result"
    }
   ],
   "source": [
    "m = []\n",
    "for i in range(n):\n",
    "    m.append((x1[i]+x1[i+1])/2)\n",
    "m"
   ]
  },
  {
   "cell_type": "code",
   "execution_count": 98,
   "id": "2451dc03",
   "metadata": {},
   "outputs": [
    {
     "data": {
      "text/plain": [
       "[0.125, 3.375, 15.625, 42.875, 91.125]"
      ]
     },
     "execution_count": 98,
     "metadata": {},
     "output_type": "execute_result"
    }
   ],
   "source": [
    "f1 = []\n",
    "for i in range(n):\n",
    "    f1.append(flam(m[i]))\n",
    "f1"
   ]
  },
  {
   "cell_type": "code",
   "execution_count": 99,
   "id": "e7523eb4",
   "metadata": {},
   "outputs": [
    {
     "data": {
      "text/plain": [
       "153.125"
      ]
     },
     "execution_count": 99,
     "metadata": {},
     "output_type": "execute_result"
    }
   ],
   "source": [
    "sum1 = 0\n",
    "for i in range (n):\n",
    "    sum1 += f1[i] * dx\n",
    "sum1"
   ]
  },
  {
   "cell_type": "code",
   "execution_count": 100,
   "id": "149b8869",
   "metadata": {},
   "outputs": [
    {
     "data": {
      "text/plain": [
       "<BarContainer object of 5 artists>"
      ]
     },
     "execution_count": 100,
     "metadata": {},
     "output_type": "execute_result"
    },
    {
     "data": {
      "image/png": "[encoded data removed]",
      "text/plain": [
       "<Figure size 432x288 with 1 Axes>"
      ]
     },
     "metadata": {
      "needs_background": "light"
     },
     "output_type": "display_data"
    }
   ],
   "source": [
    "plt.plot(m, f1)\n",
    "plt.bar(m, f1, width=dx, align='center',color= ['r', 'y', 'b','g'])"
   ]
  },
  {
   "cell_type": "code",
   "execution_count": null,
   "id": "3bd381bb",
   "metadata": {},
   "outputs": [],
   "source": []
  }
 ],
 "metadata": {
  "kernelspec": {
   "display_name": "Python 3 (ipykernel)",
   "language": "python",
   "name": "python3"
  },
  "language_info": {
   "codemirror_mode": {
    "name": "ipython",
    "version": 3
   },
   "file_extension": ".py",
   "mimetype": "text/x-python",
   "name": "python",
   "nbconvert_exporter": "python",
   "pygments_lexer": "ipython3",
   "version": "3.8.10"
  }
 },
 "nbformat": 4,
 "nbformat_minor": 5
}
