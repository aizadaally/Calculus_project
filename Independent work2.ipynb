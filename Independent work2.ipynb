{
  "nbformat": 4,
  "nbformat_minor": 0,
  "metadata": {
    "kernelspec": {
      "display_name": "Python 3",
      "language": "python",
      "name": "python3"
    },
    "language_info": {
      "codemirror_mode": {
        "name": "ipython",
        "version": 3
      },
      "file_extension": ".py",
      "mimetype": "text/x-python",
      "name": "python",
      "nbconvert_exporter": "python",
      "pygments_lexer": "ipython3",
      "version": "3.8.5"
    },
    "colab": {
      "name": "Independent_Work_new2_ipynbAizada.ipynbn.ipynb",
      "provenance": [],
      "collapsed_sections": [],
      "toc_visible": true
    },
    "widgets": {
      "application/vnd.jupyter.widget-state+json": {
        "1d202a0d916e49a1af099b68b236da9f": {
          "model_module": "@jupyter-widgets/controls",
          "model_name": "VBoxModel",
          "model_module_version": "1.5.0",
          "state": {
            "_view_name": "VBoxView",
            "_dom_classes": [
              "widget-interact"
            ],
            "_model_name": "VBoxModel",
            "_view_module": "@jupyter-widgets/controls",
            "_model_module_version": "1.5.0",
            "_view_count": null,
            "_view_module_version": "1.5.0",
            "box_style": "",
            "layout": "IPY_MODEL_4577493a60a147bf84f404d60f518ed8",
            "_model_module": "@jupyter-widgets/controls",
            "children": [
              "IPY_MODEL_3d2686aea894435c818a6aff8c7bb475",
              "IPY_MODEL_e4f2d41a67f44deaacbbe12d6a595e71"
            ]
          }
        },
        "4577493a60a147bf84f404d60f518ed8": {
          "model_module": "@jupyter-widgets/base",
          "model_name": "LayoutModel",
          "model_module_version": "1.2.0",
          "state": {
            "_view_name": "LayoutView",
            "grid_template_rows": null,
            "right": null,
            "justify_content": null,
            "_view_module": "@jupyter-widgets/base",
            "overflow": null,
            "_model_module_version": "1.2.0",
            "_view_count": null,
            "flex_flow": null,
            "width": null,
            "min_width": null,
            "border": null,
            "align_items": null,
            "bottom": null,
            "_model_module": "@jupyter-widgets/base",
            "top": null,
            "grid_column": null,
            "overflow_y": null,
            "overflow_x": null,
            "grid_auto_flow": null,
            "grid_area": null,
            "grid_template_columns": null,
            "flex": null,
            "_model_name": "LayoutModel",
            "justify_items": null,
            "grid_row": null,
            "max_height": null,
            "align_content": null,
            "visibility": null,
            "align_self": null,
            "height": null,
            "min_height": null,
            "padding": null,
            "grid_auto_rows": null,
            "grid_gap": null,
            "max_width": null,
            "order": null,
            "_view_module_version": "1.2.0",
            "grid_template_areas": null,
            "object_position": null,
            "object_fit": null,
            "grid_auto_columns": null,
            "margin": null,
            "display": null,
            "left": null
          }
        },
        "3d2686aea894435c818a6aff8c7bb475": {
          "model_module": "@jupyter-widgets/controls",
          "model_name": "IntSliderModel",
          "model_module_version": "1.5.0",
          "state": {
            "_view_name": "IntSliderView",
            "style": "IPY_MODEL_484ce50787084d91837cf43db097a2b0",
            "_dom_classes": [],
            "description": "n",
            "step": 2,
            "_model_name": "IntSliderModel",
            "orientation": "horizontal",
            "max": 234,
            "_view_module": "@jupyter-widgets/controls",
            "_model_module_version": "1.5.0",
            "value": 45,
            "_view_count": null,
            "disabled": false,
            "_view_module_version": "1.5.0",
            "min": 45,
            "continuous_update": true,
            "readout_format": "d",
            "description_tooltip": null,
            "readout": true,
            "_model_module": "@jupyter-widgets/controls",
            "layout": "IPY_MODEL_f05015b8707043338e8c264a7a31b590"
          }
        },
        "e4f2d41a67f44deaacbbe12d6a595e71": {
          "model_module": "@jupyter-widgets/output",
          "model_name": "OutputModel",
          "model_module_version": "1.0.0",
          "state": {
            "_view_name": "OutputView",
            "msg_id": "",
            "_dom_classes": [],
            "_model_name": "OutputModel",
            "outputs": [
              {
                "output_type": "error",
                "ename": "SyntaxError",
                "evalue": "ignored",
                "traceback": [
                  "\u001b[0;36m  File \u001b[0;32m\"<lambdifygenerated-5>\"\u001b[0;36m, line \u001b[0;32m1\u001b[0m\n\u001b[0;31m    def _lambdifygenerated(-70.0, -69.2964824120603, -68.5929648241206, -67.8894472361809, -67.1859296482412, -66.48241206030151, -65.77889447236181, -65.07537688442211, -64.37185929648241, -63.66834170854271, -62.96482412060301, -62.26130653266332, -61.55778894472362, -60.85427135678392, -60.15075376884422, -59.447236180904525, -58.743718592964825, -58.040201005025125, -57.336683417085425, -56.633165829145725, -55.92964824120603, -55.22613065326633, -54.52261306532663, -53.81909547738694, -53.11557788944724, -52.41206030150754, -51.70854271356784, -51.00502512562814, -50.30150753768844, -49.597989949748744, -48.89447236180904, -48.19095477386935, -47.48743718592965, -46.78391959798995, -46.08040201005025, -45.37688442211055, -44.67336683417085, -43.96984924623115, -43.266331658291456, -42.562814070351756, -41.85929648241206, -41.15577889447236, -40.45226130653266, -39.74874371859296, -39.04522613065326, -38.34170854271356, -37.63819095477387, -36.93467336683417, -36.23115577889447, -35.52763819095477, -34.824120603015075, -34.120603015075375, -33.417085427135675, -32.713567839195974, -32.01005025125628, -31.30653266331658, -30.60301507537688, -29.89949748743718, -29.195979899497488, -28.492462311557787, -27.788944723618087, -27.085427135678387, -26.381909547738694, -25.678391959798994, -24.974874371859293, -24.271356783919593, -23.567839195979893, -22.8643216080402, -22.1608040201005, -21.4572864321608, -20.7537688442211, -20.050251256281406, -19.346733668341706, -...\n\u001b[0m                           ^\u001b[0m\n\u001b[0;31mSyntaxError\u001b[0m\u001b[0;31m:\u001b[0m invalid syntax\n"
                ]
              }
            ],
            "_view_module": "@jupyter-widgets/output",
            "_model_module_version": "1.0.0",
            "_view_count": null,
            "_view_module_version": "1.0.0",
            "layout": "IPY_MODEL_aa679ba6f71848f2b4b11245d0bcae9c",
            "_model_module": "@jupyter-widgets/output"
          }
        },
        "484ce50787084d91837cf43db097a2b0": {
          "model_module": "@jupyter-widgets/controls",
          "model_name": "SliderStyleModel",
          "model_module_version": "1.5.0",
          "state": {
            "_view_name": "StyleView",
            "handle_color": null,
            "_model_name": "SliderStyleModel",
            "description_width": "",
            "_view_module": "@jupyter-widgets/base",
            "_model_module_version": "1.5.0",
            "_view_count": null,
            "_view_module_version": "1.2.0",
            "_model_module": "@jupyter-widgets/controls"
          }
        },
        "f05015b8707043338e8c264a7a31b590": {
          "model_module": "@jupyter-widgets/base",
          "model_name": "LayoutModel",
          "model_module_version": "1.2.0",
          "state": {
            "_view_name": "LayoutView",
            "grid_template_rows": null,
            "right": null,
            "justify_content": null,
            "_view_module": "@jupyter-widgets/base",
            "overflow": null,
            "_model_module_version": "1.2.0",
            "_view_count": null,
            "flex_flow": null,
            "width": null,
            "min_width": null,
            "border": null,
            "align_items": null,
            "bottom": null,
            "_model_module": "@jupyter-widgets/base",
            "top": null,
            "grid_column": null,
            "overflow_y": null,
            "overflow_x": null,
            "grid_auto_flow": null,
            "grid_area": null,
            "grid_template_columns": null,
            "flex": null,
            "_model_name": "LayoutModel",
            "justify_items": null,
            "grid_row": null,
            "max_height": null,
            "align_content": null,
            "visibility": null,
            "align_self": null,
            "height": null,
            "min_height": null,
            "padding": null,
            "grid_auto_rows": null,
            "grid_gap": null,
            "max_width": null,
            "order": null,
            "_view_module_version": "1.2.0",
            "grid_template_areas": null,
            "object_position": null,
            "object_fit": null,
            "grid_auto_columns": null,
            "margin": null,
            "display": null,
            "left": null
          }
        },
        "aa679ba6f71848f2b4b11245d0bcae9c": {
          "model_module": "@jupyter-widgets/base",
          "model_name": "LayoutModel",
          "model_module_version": "1.2.0",
          "state": {
            "_view_name": "LayoutView",
            "grid_template_rows": null,
            "right": null,
            "justify_content": null,
            "_view_module": "@jupyter-widgets/base",
            "overflow": null,
            "_model_module_version": "1.2.0",
            "_view_count": null,
            "flex_flow": null,
            "width": null,
            "min_width": null,
            "border": null,
            "align_items": null,
            "bottom": null,
            "_model_module": "@jupyter-widgets/base",
            "top": null,
            "grid_column": null,
            "overflow_y": null,
            "overflow_x": null,
            "grid_auto_flow": null,
            "grid_area": null,
            "grid_template_columns": null,
            "flex": null,
            "_model_name": "LayoutModel",
            "justify_items": null,
            "grid_row": null,
            "max_height": null,
            "align_content": null,
            "visibility": null,
            "align_self": null,
            "height": null,
            "min_height": null,
            "padding": null,
            "grid_auto_rows": null,
            "grid_gap": null,
            "max_width": null,
            "order": null,
            "_view_module_version": "1.2.0",
            "grid_template_areas": null,
            "object_position": null,
            "object_fit": null,
            "grid_auto_columns": null,
            "margin": null,
            "display": null,
            "left": null
          }
        },
        "ddfe88dc7d7f406dbb1841298c9c33d7": {
          "model_module": "@jupyter-widgets/controls",
          "model_name": "VBoxModel",
          "model_module_version": "1.5.0",
          "state": {
            "_view_name": "VBoxView",
            "_dom_classes": [
              "widget-interact"
            ],
            "_model_name": "VBoxModel",
            "_view_module": "@jupyter-widgets/controls",
            "_model_module_version": "1.5.0",
            "_view_count": null,
            "_view_module_version": "1.5.0",
            "box_style": "",
            "layout": "IPY_MODEL_46932e11ea3d4af2b882b0bf2e34142c",
            "_model_module": "@jupyter-widgets/controls",
            "children": [
              "IPY_MODEL_dad2017970d8481ba9520ba2b2a76b48",
              "IPY_MODEL_11734be1276a48989123ff492c18a598"
            ]
          }
        },
        "46932e11ea3d4af2b882b0bf2e34142c": {
          "model_module": "@jupyter-widgets/base",
          "model_name": "LayoutModel",
          "model_module_version": "1.2.0",
          "state": {
            "_view_name": "LayoutView",
            "grid_template_rows": null,
            "right": null,
            "justify_content": null,
            "_view_module": "@jupyter-widgets/base",
            "overflow": null,
            "_model_module_version": "1.2.0",
            "_view_count": null,
            "flex_flow": null,
            "width": null,
            "min_width": null,
            "border": null,
            "align_items": null,
            "bottom": null,
            "_model_module": "@jupyter-widgets/base",
            "top": null,
            "grid_column": null,
            "overflow_y": null,
            "overflow_x": null,
            "grid_auto_flow": null,
            "grid_area": null,
            "grid_template_columns": null,
            "flex": null,
            "_model_name": "LayoutModel",
            "justify_items": null,
            "grid_row": null,
            "max_height": null,
            "align_content": null,
            "visibility": null,
            "align_self": null,
            "height": null,
            "min_height": null,
            "padding": null,
            "grid_auto_rows": null,
            "grid_gap": null,
            "max_width": null,
            "order": null,
            "_view_module_version": "1.2.0",
            "grid_template_areas": null,
            "object_position": null,
            "object_fit": null,
            "grid_auto_columns": null,
            "margin": null,
            "display": null,
            "left": null
          }
        },
        "dad2017970d8481ba9520ba2b2a76b48": {
          "model_module": "@jupyter-widgets/controls",
          "model_name": "IntSliderModel",
          "model_module_version": "1.5.0",
          "state": {
            "_view_name": "IntSliderView",
            "style": "IPY_MODEL_a74e1d42729242cab0ed09deb87409a0",
            "_dom_classes": [],
            "description": "n",
            "step": 1,
            "_model_name": "IntSliderModel",
            "orientation": "horizontal",
            "max": 20,
            "_view_module": "@jupyter-widgets/controls",
            "_model_module_version": "1.5.0",
            "value": 12,
            "_view_count": null,
            "disabled": false,
            "_view_module_version": "1.5.0",
            "min": 3,
            "continuous_update": true,
            "readout_format": "d",
            "description_tooltip": null,
            "readout": true,
            "_model_module": "@jupyter-widgets/controls",
            "layout": "IPY_MODEL_7d2a6b75ee314ea09c0199acc8931ed9"
          }
        },
        "11734be1276a48989123ff492c18a598": {
          "model_module": "@jupyter-widgets/output",
          "model_name": "OutputModel",
          "model_module_version": "1.0.0",
          "state": {
            "_view_name": "OutputView",
            "msg_id": "",
            "_dom_classes": [],
            "_model_name": "OutputModel",
            "outputs": [
              {
                "output_type": "error",
                "ename": "SyntaxError",
                "evalue": "ignored",
                "traceback": [
                  "\u001b[0;36m  File \u001b[0;32m\"<lambdifygenerated-4>\"\u001b[0;36m, line \u001b[0;32m1\u001b[0m\n\u001b[0;31m    def _lambdifygenerated(-70.0, -69.2964824120603, -68.5929648241206, -67.8894472361809, -67.1859296482412, -66.48241206030151, -65.77889447236181, -65.07537688442211, -64.37185929648241, -63.66834170854271, -62.96482412060301, -62.26130653266332, -61.55778894472362, -60.85427135678392, -60.15075376884422, -59.447236180904525, -58.743718592964825, -58.040201005025125, -57.336683417085425, -56.633165829145725, -55.92964824120603, -55.22613065326633, -54.52261306532663, -53.81909547738694, -53.11557788944724, -52.41206030150754, -51.70854271356784, -51.00502512562814, -50.30150753768844, -49.597989949748744, -48.89447236180904, -48.19095477386935, -47.48743718592965, -46.78391959798995, -46.08040201005025, -45.37688442211055, -44.67336683417085, -43.96984924623115, -43.266331658291456, -42.562814070351756, -41.85929648241206, -41.15577889447236, -40.45226130653266, -39.74874371859296, -39.04522613065326, -38.34170854271356, -37.63819095477387, -36.93467336683417, -36.23115577889447, -35.52763819095477, -34.824120603015075, -34.120603015075375, -33.417085427135675, -32.713567839195974, -32.01005025125628, -31.30653266331658, -30.60301507537688, -29.89949748743718, -29.195979899497488, -28.492462311557787, -27.788944723618087, -27.085427135678387, -26.381909547738694, -25.678391959798994, -24.974874371859293, -24.271356783919593, -23.567839195979893, -22.8643216080402, -22.1608040201005, -21.4572864321608, -20.7537688442211, -20.050251256281406, -19.346733668341706, -...\n\u001b[0m                           ^\u001b[0m\n\u001b[0;31mSyntaxError\u001b[0m\u001b[0;31m:\u001b[0m invalid syntax\n"
                ]
              }
            ],
            "_view_module": "@jupyter-widgets/output",
            "_model_module_version": "1.0.0",
            "_view_count": null,
            "_view_module_version": "1.0.0",
            "layout": "IPY_MODEL_739e0f33d0ae47f482831abf8d83c39f",
            "_model_module": "@jupyter-widgets/output"
          }
        },
        "a74e1d42729242cab0ed09deb87409a0": {
          "model_module": "@jupyter-widgets/controls",
          "model_name": "SliderStyleModel",
          "model_module_version": "1.5.0",
          "state": {
            "_view_name": "StyleView",
            "handle_color": null,
            "_model_name": "SliderStyleModel",
            "description_width": "",
            "_view_module": "@jupyter-widgets/base",
            "_model_module_version": "1.5.0",
            "_view_count": null,
            "_view_module_version": "1.2.0",
            "_model_module": "@jupyter-widgets/controls"
          }
        },
        "7d2a6b75ee314ea09c0199acc8931ed9": {
          "model_module": "@jupyter-widgets/base",
          "model_name": "LayoutModel",
          "model_module_version": "1.2.0",
          "state": {
            "_view_name": "LayoutView",
            "grid_template_rows": null,
            "right": null,
            "justify_content": null,
            "_view_module": "@jupyter-widgets/base",
            "overflow": null,
            "_model_module_version": "1.2.0",
            "_view_count": null,
            "flex_flow": null,
            "width": null,
            "min_width": null,
            "border": null,
            "align_items": null,
            "bottom": null,
            "_model_module": "@jupyter-widgets/base",
            "top": null,
            "grid_column": null,
            "overflow_y": null,
            "overflow_x": null,
            "grid_auto_flow": null,
            "grid_area": null,
            "grid_template_columns": null,
            "flex": null,
            "_model_name": "LayoutModel",
            "justify_items": null,
            "grid_row": null,
            "max_height": null,
            "align_content": null,
            "visibility": null,
            "align_self": null,
            "height": null,
            "min_height": null,
            "padding": null,
            "grid_auto_rows": null,
            "grid_gap": null,
            "max_width": null,
            "order": null,
            "_view_module_version": "1.2.0",
            "grid_template_areas": null,
            "object_position": null,
            "object_fit": null,
            "grid_auto_columns": null,
            "margin": null,
            "display": null,
            "left": null
          }
        },
        "739e0f33d0ae47f482831abf8d83c39f": {
          "model_module": "@jupyter-widgets/base",
          "model_name": "LayoutModel",
          "model_module_version": "1.2.0",
          "state": {
            "_view_name": "LayoutView",
            "grid_template_rows": null,
            "right": null,
            "justify_content": null,
            "_view_module": "@jupyter-widgets/base",
            "overflow": null,
            "_model_module_version": "1.2.0",
            "_view_count": null,
            "flex_flow": null,
            "width": null,
            "min_width": null,
            "border": null,
            "align_items": null,
            "bottom": null,
            "_model_module": "@jupyter-widgets/base",
            "top": null,
            "grid_column": null,
            "overflow_y": null,
            "overflow_x": null,
            "grid_auto_flow": null,
            "grid_area": null,
            "grid_template_columns": null,
            "flex": null,
            "_model_name": "LayoutModel",
            "justify_items": null,
            "grid_row": null,
            "max_height": null,
            "align_content": null,
            "visibility": null,
            "align_self": null,
            "height": null,
            "min_height": null,
            "padding": null,
            "grid_auto_rows": null,
            "grid_gap": null,
            "max_width": null,
            "order": null,
            "_view_module_version": "1.2.0",
            "grid_template_areas": null,
            "object_position": null,
            "object_fit": null,
            "grid_auto_columns": null,
            "margin": null,
            "display": null,
            "left": null
          }
        },
        "a762d5c62e70452f9e62f5a0705d2530": {
          "model_module": "@jupyter-widgets/controls",
          "model_name": "VBoxModel",
          "model_module_version": "1.5.0",
          "state": {
            "_view_name": "VBoxView",
            "_dom_classes": [
              "widget-interact"
            ],
            "_model_name": "VBoxModel",
            "_view_module": "@jupyter-widgets/controls",
            "_model_module_version": "1.5.0",
            "_view_count": null,
            "_view_module_version": "1.5.0",
            "box_style": "",
            "layout": "IPY_MODEL_fb88e25f61664806afb01273dde44285",
            "_model_module": "@jupyter-widgets/controls",
            "children": [
              "IPY_MODEL_7bd4d6ea079f4183b3237f0216115e5e",
              "IPY_MODEL_95064ad1042843fd8f8420c6ddd503ce"
            ]
          }
        },
        "fb88e25f61664806afb01273dde44285": {
          "model_module": "@jupyter-widgets/base",
          "model_name": "LayoutModel",
          "model_module_version": "1.2.0",
          "state": {
            "_view_name": "LayoutView",
            "grid_template_rows": null,
            "right": null,
            "justify_content": null,
            "_view_module": "@jupyter-widgets/base",
            "overflow": null,
            "_model_module_version": "1.2.0",
            "_view_count": null,
            "flex_flow": null,
            "width": null,
            "min_width": null,
            "border": null,
            "align_items": null,
            "bottom": null,
            "_model_module": "@jupyter-widgets/base",
            "top": null,
            "grid_column": null,
            "overflow_y": null,
            "overflow_x": null,
            "grid_auto_flow": null,
            "grid_area": null,
            "grid_template_columns": null,
            "flex": null,
            "_model_name": "LayoutModel",
            "justify_items": null,
            "grid_row": null,
            "max_height": null,
            "align_content": null,
            "visibility": null,
            "align_self": null,
            "height": null,
            "min_height": null,
            "padding": null,
            "grid_auto_rows": null,
            "grid_gap": null,
            "max_width": null,
            "order": null,
            "_view_module_version": "1.2.0",
            "grid_template_areas": null,
            "object_position": null,
            "object_fit": null,
            "grid_auto_columns": null,
            "margin": null,
            "display": null,
            "left": null
          }
        },
        "7bd4d6ea079f4183b3237f0216115e5e": {
          "model_module": "@jupyter-widgets/controls",
          "model_name": "IntSliderModel",
          "model_module_version": "1.5.0",
          "state": {
            "_view_name": "IntSliderView",
            "style": "IPY_MODEL_639a7760e8054b61a2e392cd0f122ee5",
            "_dom_classes": [],
            "description": "n",
            "step": 1,
            "_model_name": "IntSliderModel",
            "orientation": "horizontal",
            "max": 20,
            "_view_module": "@jupyter-widgets/controls",
            "_model_module_version": "1.5.0",
            "value": 7,
            "_view_count": null,
            "disabled": false,
            "_view_module_version": "1.5.0",
            "min": 3,
            "continuous_update": true,
            "readout_format": "d",
            "description_tooltip": null,
            "readout": true,
            "_model_module": "@jupyter-widgets/controls",
            "layout": "IPY_MODEL_78f9c48148cd418f9b0a18dde476bd91"
          }
        },
        "95064ad1042843fd8f8420c6ddd503ce": {
          "model_module": "@jupyter-widgets/output",
          "model_name": "OutputModel",
          "model_module_version": "1.0.0",
          "state": {
            "_view_name": "OutputView",
            "msg_id": "",
            "_dom_classes": [],
            "_model_name": "OutputModel",
            "outputs": [
              {
                "output_type": "error",
                "ename": "AttributeError",
                "evalue": "ignored",
                "traceback": [
                  "\u001b[0;31m---------------------------------------------------------------------------\u001b[0m",
                  "\u001b[0;31mAttributeError\u001b[0m                            Traceback (most recent call last)",
                  "\u001b[0;32m/usr/local/lib/python3.7/dist-packages/ipywidgets/widgets/interaction.py\u001b[0m in \u001b[0;36mupdate\u001b[0;34m(self, *args)\u001b[0m\n\u001b[1;32m    255\u001b[0m                     \u001b[0mvalue\u001b[0m \u001b[0;34m=\u001b[0m \u001b[0mwidget\u001b[0m\u001b[0;34m.\u001b[0m\u001b[0mget_interact_value\u001b[0m\u001b[0;34m(\u001b[0m\u001b[0;34m)\u001b[0m\u001b[0;34m\u001b[0m\u001b[0;34m\u001b[0m\u001b[0m\n\u001b[1;32m    256\u001b[0m                     \u001b[0mself\u001b[0m\u001b[0;34m.\u001b[0m\u001b[0mkwargs\u001b[0m\u001b[0;34m[\u001b[0m\u001b[0mwidget\u001b[0m\u001b[0;34m.\u001b[0m\u001b[0m_kwarg\u001b[0m\u001b[0;34m]\u001b[0m \u001b[0;34m=\u001b[0m \u001b[0mvalue\u001b[0m\u001b[0;34m\u001b[0m\u001b[0;34m\u001b[0m\u001b[0m\n\u001b[0;32m--> 257\u001b[0;31m                 \u001b[0mself\u001b[0m\u001b[0;34m.\u001b[0m\u001b[0mresult\u001b[0m \u001b[0;34m=\u001b[0m \u001b[0mself\u001b[0m\u001b[0;34m.\u001b[0m\u001b[0mf\u001b[0m\u001b[0;34m(\u001b[0m\u001b[0;34m**\u001b[0m\u001b[0mself\u001b[0m\u001b[0;34m.\u001b[0m\u001b[0mkwargs\u001b[0m\u001b[0;34m)\u001b[0m\u001b[0;34m\u001b[0m\u001b[0;34m\u001b[0m\u001b[0m\n\u001b[0m\u001b[1;32m    258\u001b[0m                 \u001b[0mshow_inline_matplotlib_plots\u001b[0m\u001b[0;34m(\u001b[0m\u001b[0;34m)\u001b[0m\u001b[0;34m\u001b[0m\u001b[0;34m\u001b[0m\u001b[0m\n\u001b[1;32m    259\u001b[0m                 \u001b[0;32mif\u001b[0m \u001b[0mself\u001b[0m\u001b[0;34m.\u001b[0m\u001b[0mauto_display\u001b[0m \u001b[0;32mand\u001b[0m \u001b[0mself\u001b[0m\u001b[0;34m.\u001b[0m\u001b[0mresult\u001b[0m \u001b[0;32mis\u001b[0m \u001b[0;32mnot\u001b[0m \u001b[0;32mNone\u001b[0m\u001b[0;34m:\u001b[0m\u001b[0;34m\u001b[0m\u001b[0;34m\u001b[0m\u001b[0m\n",
                  "\u001b[0;32m<ipython-input-32-64e5eacc333b>\u001b[0m in \u001b[0;36mfunction3\u001b[0;34m(n)\u001b[0m\n\u001b[1;32m      1\u001b[0m \u001b[0;34m@\u001b[0m\u001b[0minteract\u001b[0m \u001b[0;34m(\u001b[0m\u001b[0mn\u001b[0m \u001b[0;34m=\u001b[0m \u001b[0mIntSlider\u001b[0m\u001b[0;34m(\u001b[0m\u001b[0;36m0\u001b[0m\u001b[0;34m,\u001b[0m\u001b[0;36m3\u001b[0m\u001b[0;34m,\u001b[0m\u001b[0;36m20\u001b[0m\u001b[0;34m)\u001b[0m\u001b[0;34m)\u001b[0m\u001b[0;34m\u001b[0m\u001b[0;34m\u001b[0m\u001b[0m\n\u001b[1;32m      2\u001b[0m \u001b[0;32mdef\u001b[0m \u001b[0mfunction3\u001b[0m\u001b[0;34m(\u001b[0m\u001b[0mn\u001b[0m\u001b[0;34m)\u001b[0m\u001b[0;34m:\u001b[0m\u001b[0;34m\u001b[0m\u001b[0;34m\u001b[0m\u001b[0m\n\u001b[0;32m----> 3\u001b[0;31m     \u001b[0mnewtonRaphsonmethod\u001b[0m\u001b[0;34m(\u001b[0m\u001b[0;34m'y**2-2'\u001b[0m\u001b[0;34m)\u001b[0m\u001b[0;34m\u001b[0m\u001b[0;34m\u001b[0m\u001b[0m\n\u001b[0m",
                  "\u001b[0;32m<ipython-input-30-e3a8d5d10510>\u001b[0m in \u001b[0;36mnewtonRaphsonmethod\u001b[0;34m(function)\u001b[0m\n\u001b[1;32m      4\u001b[0m     \u001b[0mf\u001b[0m \u001b[0;34m=\u001b[0m \u001b[0msym\u001b[0m\u001b[0;34m.\u001b[0m\u001b[0mlambdify\u001b[0m\u001b[0;34m(\u001b[0m\u001b[0my\u001b[0m\u001b[0;34m,\u001b[0m\u001b[0mfunction\u001b[0m\u001b[0;34m)\u001b[0m\u001b[0;34m\u001b[0m\u001b[0;34m\u001b[0m\u001b[0m\n\u001b[1;32m      5\u001b[0m \u001b[0;34m\u001b[0m\u001b[0m\n\u001b[0;32m----> 6\u001b[0;31m     \u001b[0myvalue\u001b[0m \u001b[0;34m=\u001b[0m \u001b[0mnp\u001b[0m\u001b[0;34m.\u001b[0m\u001b[0mlinespace\u001b[0m \u001b[0;34m(\u001b[0m\u001b[0;34m-\u001b[0m\u001b[0;36m8\u001b[0m\u001b[0;34m,\u001b[0m\u001b[0;36m9\u001b[0m\u001b[0;34m,\u001b[0m\u001b[0;36m87\u001b[0m\u001b[0;34m)\u001b[0m\u001b[0;34m\u001b[0m\u001b[0;34m\u001b[0m\u001b[0m\n\u001b[0m\u001b[1;32m      7\u001b[0m     \u001b[0mplt\u001b[0m\u001b[0;34m.\u001b[0m\u001b[0mfigure\u001b[0m\u001b[0;34m(\u001b[0m\u001b[0mfigsize\u001b[0m\u001b[0;34m=\u001b[0m\u001b[0;34m(\u001b[0m\u001b[0;36m6\u001b[0m\u001b[0;34m,\u001b[0m\u001b[0;36m3\u001b[0m\u001b[0;34m)\u001b[0m\u001b[0;34m)\u001b[0m\u001b[0;34m\u001b[0m\u001b[0;34m\u001b[0m\u001b[0m\n\u001b[1;32m      8\u001b[0m     \u001b[0mplt\u001b[0m\u001b[0;34m.\u001b[0m\u001b[0mplot\u001b[0m\u001b[0;34m(\u001b[0m\u001b[0myvalue\u001b[0m\u001b[0;34m,\u001b[0m\u001b[0mf\u001b[0m\u001b[0;34m(\u001b[0m\u001b[0myvalue\u001b[0m\u001b[0;34m)\u001b[0m\u001b[0;34m,\u001b[0m \u001b[0mlinewidth\u001b[0m \u001b[0;34m=\u001b[0m \u001b[0;36m3\u001b[0m\u001b[0;34m)\u001b[0m\u001b[0;34m\u001b[0m\u001b[0;34m\u001b[0m\u001b[0m\n",
                  "\u001b[0;32m/usr/local/lib/python3.7/dist-packages/numpy/__init__.py\u001b[0m in \u001b[0;36m__getattr__\u001b[0;34m(attr)\u001b[0m\n\u001b[1;32m    213\u001b[0m             \u001b[0;32melse\u001b[0m\u001b[0;34m:\u001b[0m\u001b[0;34m\u001b[0m\u001b[0;34m\u001b[0m\u001b[0m\n\u001b[1;32m    214\u001b[0m                 raise AttributeError(\"module {!r} has no attribute \"\n\u001b[0;32m--> 215\u001b[0;31m                                      \"{!r}\".format(__name__, attr))\n\u001b[0m\u001b[1;32m    216\u001b[0m \u001b[0;34m\u001b[0m\u001b[0m\n\u001b[1;32m    217\u001b[0m         \u001b[0;32mdef\u001b[0m \u001b[0m__dir__\u001b[0m\u001b[0;34m(\u001b[0m\u001b[0;34m)\u001b[0m\u001b[0;34m:\u001b[0m\u001b[0;34m\u001b[0m\u001b[0;34m\u001b[0m\u001b[0m\n",
                  "\u001b[0;31mAttributeError\u001b[0m: module 'numpy' has no attribute 'linespace'"
                ]
              }
            ],
            "_view_module": "@jupyter-widgets/output",
            "_model_module_version": "1.0.0",
            "_view_count": null,
            "_view_module_version": "1.0.0",
            "layout": "IPY_MODEL_99b55ad921704377b9ae01a92235626f",
            "_model_module": "@jupyter-widgets/output"
          }
        },
        "639a7760e8054b61a2e392cd0f122ee5": {
          "model_module": "@jupyter-widgets/controls",
          "model_name": "SliderStyleModel",
          "model_module_version": "1.5.0",
          "state": {
            "_view_name": "StyleView",
            "handle_color": null,
            "_model_name": "SliderStyleModel",
            "description_width": "",
            "_view_module": "@jupyter-widgets/base",
            "_model_module_version": "1.5.0",
            "_view_count": null,
            "_view_module_version": "1.2.0",
            "_model_module": "@jupyter-widgets/controls"
          }
        },
        "78f9c48148cd418f9b0a18dde476bd91": {
          "model_module": "@jupyter-widgets/base",
          "model_name": "LayoutModel",
          "model_module_version": "1.2.0",
          "state": {
            "_view_name": "LayoutView",
            "grid_template_rows": null,
            "right": null,
            "justify_content": null,
            "_view_module": "@jupyter-widgets/base",
            "overflow": null,
            "_model_module_version": "1.2.0",
            "_view_count": null,
            "flex_flow": null,
            "width": null,
            "min_width": null,
            "border": null,
            "align_items": null,
            "bottom": null,
            "_model_module": "@jupyter-widgets/base",
            "top": null,
            "grid_column": null,
            "overflow_y": null,
            "overflow_x": null,
            "grid_auto_flow": null,
            "grid_area": null,
            "grid_template_columns": null,
            "flex": null,
            "_model_name": "LayoutModel",
            "justify_items": null,
            "grid_row": null,
            "max_height": null,
            "align_content": null,
            "visibility": null,
            "align_self": null,
            "height": null,
            "min_height": null,
            "padding": null,
            "grid_auto_rows": null,
            "grid_gap": null,
            "max_width": null,
            "order": null,
            "_view_module_version": "1.2.0",
            "grid_template_areas": null,
            "object_position": null,
            "object_fit": null,
            "grid_auto_columns": null,
            "margin": null,
            "display": null,
            "left": null
          }
        },
        "99b55ad921704377b9ae01a92235626f": {
          "model_module": "@jupyter-widgets/base",
          "model_name": "LayoutModel",
          "model_module_version": "1.2.0",
          "state": {
            "_view_name": "LayoutView",
            "grid_template_rows": null,
            "right": null,
            "justify_content": null,
            "_view_module": "@jupyter-widgets/base",
            "overflow": null,
            "_model_module_version": "1.2.0",
            "_view_count": null,
            "flex_flow": null,
            "width": null,
            "min_width": null,
            "border": null,
            "align_items": null,
            "bottom": null,
            "_model_module": "@jupyter-widgets/base",
            "top": null,
            "grid_column": null,
            "overflow_y": null,
            "overflow_x": null,
            "grid_auto_flow": null,
            "grid_area": null,
            "grid_template_columns": null,
            "flex": null,
            "_model_name": "LayoutModel",
            "justify_items": null,
            "grid_row": null,
            "max_height": null,
            "align_content": null,
            "visibility": null,
            "align_self": null,
            "height": null,
            "min_height": null,
            "padding": null,
            "grid_auto_rows": null,
            "grid_gap": null,
            "max_width": null,
            "order": null,
            "_view_module_version": "1.2.0",
            "grid_template_areas": null,
            "object_position": null,
            "object_fit": null,
            "grid_auto_columns": null,
            "margin": null,
            "display": null,
            "left": null
          }
        }
      }
    }
  },
  "cells": [
    {
      "cell_type": "markdown",
      "metadata": {
        "id": "4pX1Ys2rcZug"
      },
      "source": [
        "## Applications of Differentiation"
      ]
    },
    {
      "cell_type": "markdown",
      "metadata": {
        "id": "vJ9phMMTcZuj"
      },
      "source": [
        "<p>In this independent work, you are going to implement two applications Linear Approximation and Newton's Method</p>\n",
        "\n",
        "<p>For more information, check out the textbook. </p>\n"
      ]
    },
    {
      "cell_type": "code",
      "metadata": {
        "id": "B69RgABNcZul"
      },
      "source": [
        "%matplotlib notebook\n",
        "import sympy as sym\n",
        "import numpy as np\n",
        "import matplotlib.pyplot as plt\n",
        "%matplotlib inline\n",
        "from sympy.abc import x\n",
        "from ipywidgets import interact, interactive, fixed, interact_manual\n",
        "from ipywidgets import interact, IntSlider\n",
        "%matplotlib inline"
      ],
      "execution_count": 1,
      "outputs": []
    },
    {
      "cell_type": "markdown",
      "metadata": {
        "id": "s3hMPQwgcZum"
      },
      "source": [
        "## Task 1: Linear Approximation\n",
        "<p>Implement a function that takes a function and a value, and returns a linear approximation of that function at that value.</p>"
      ]
    },
    {
      "cell_type": "code",
      "metadata": {
        "id": "hsLziCnTcZun"
      },
      "source": [
        "def func(l):\n",
        "    font = {'weight': 'bold', 'size': 10}\n",
        "    matplotlib.rc('font', **font)\n",
        "    fig, ax = plt.subplots()\n",
        "    ax.spines[\"left\"].set_position((\"data\", 0))\n",
        "    ax.spines[\"bottom\"].set_position((\"data\", 0))\n",
        "    ax.spines[\"top\"].set_visible(False)\n",
        "    ax.spines[\"right\"].set_visible(False)\n",
        "    ax.plot(2, 0, \">k\", transform = ax.get_yaxis_transform(), clip_on = False)\n",
        "    ax.plot(0, 2, \"^k\", transform = ax.get_xaxis_transform(), clip_on = False)\n",
        "    x = np.linspace(-25, 25, 200)\n",
        "    def f(x):\n",
        "        return np.sqrt(x)\n",
        "    \n",
        "    def line (ax: int):\n",
        "        if ax > 0:\n",
        "             example = [i for i in range(1, ax*2)]\n",
        "        else:\n",
        "             example = [i for i in range(ax*2, 1)]\n",
        "        result = [np.sqrt(n) for n in example]\n",
        "        potential = []\n",
        "\n",
        "        for n in result:\n",
        "            if (n - int(n) <= 0.01):\n",
        "                potential.append(np.power(int(n), 2))\n",
        "        positive = ax; negative = ax\n",
        "        closest = 0\n",
        "        while True:\n",
        "            def checker(pos: int, neg: int):\n",
        "                if positive in potential:\n",
        "                    return positive\n",
        "                elif negative in potential:\n",
        "                    return negative\n",
        "                else:\n",
        "                    return False\n",
        "            if checker(positive, negative) is False:\n",
        "                positive += 1\n",
        "                negative -= 1\n",
        "            else: \n",
        "                closest = checker(positive, negative)\n",
        "                break\n",
        "\n",
        "        return(closest)\n",
        "\n",
        "    def slp(x):\n",
        "        return 1/(2*np.sqrt(np.power(x, 2)))\n",
        "    x1 = l\n",
        "    y1 = f(x1)\n",
        "    def line(x, x1):\n",
        "        return slp (x1) * (x - x1) + y1\n",
        "    ap_y = (line(x1))\n",
        "    \n",
        "    x_nums = np.linspace(x1-1, x+1, 25)\n",
        "    ax.plot(x, f(x), 'y')\n",
        "    ax.plot(x_nums,line(x_nums, x1), 'g--', linewidth = 1)\n",
        "    ax.scatter(x1, y1, color = 'b', s = 30)\n",
        "    ax.plot(np.linspace(ap_y, ap_y, 10),line(x_nums, x1), 'b--', linewidth = 2)\n"
      ],
      "execution_count": 2,
      "outputs": []
    },
    {
      "cell_type": "markdown",
      "metadata": {
        "id": "25A33PKWcZun"
      },
      "source": [
        "## Task 2: Newton's Method\n",
        "<p>Implement a function that takes a differentiable function and returns any root of that function.</p>"
      ]
    },
    {
      "cell_type": "code",
      "metadata": {
        "id": "AWNC4a0xcZuo"
      },
      "source": [
        "num=sym.symbols('x')\n",
        "def slopelines(a,b,c):\n",
        "  f=sym.sympify(a)\n",
        "  f1=sym.lambdify(x,f)\n",
        "  value_x = np.linspace(1, 7, 39)\n",
        "\n",
        "  plt.figure(figsize = (9, 9))\n",
        "  plt.plot(value_x,f2(value_x),linewidth=4)\n",
        "\n",
        "  slope=(f2(a + h)- f2(a))/h\n",
        "\n",
        "  plt.hlines(y= 1,xmin=a, xmax=a+h, linewidth =1, color = 'r')\n",
        "  plt.text(a+h/2, 2, \"h=\" + str(round(h,2)))\n",
        "\n",
        "  plt.plot(value_x,f2(a)+ slope * (value_x - a), 'tab:pink')\n",
        "  plt.xlim(0,10)\n",
        "  plt.ylim(0,100)\n"
      ],
      "execution_count": null,
      "outputs": []
    },
    {
      "cell_type": "code",
      "metadata": {
        "colab": {
          "base_uri": "https://localhost:8080/",
          "height": 406,
          "referenced_widgets": [
            "1d202a0d916e49a1af099b68b236da9f",
            "4577493a60a147bf84f404d60f518ed8",
            "3d2686aea894435c818a6aff8c7bb475",
            "e4f2d41a67f44deaacbbe12d6a595e71",
            "484ce50787084d91837cf43db097a2b0",
            "f05015b8707043338e8c264a7a31b590",
            "aa679ba6f71848f2b4b11245d0bcae9c"
          ]
        },
        "id": "lOkDExS8tChJ",
        "outputId": "5e48e5c6-3d9c-4249-dd97-10afb2f99518"
      },
      "source": [
        "@interact(n= IntSlider(35,45,234,2))\n",
        "def function(n):\n",
        "    slopelines(\"10**2\",2,39/n)"
      ],
      "execution_count": null,
      "outputs": [
        {
          "output_type": "display_data",
          "data": {
            "application/vnd.jupyter.widget-view+json": {
              "model_id": "1d202a0d916e49a1af099b68b236da9f",
              "version_minor": 0,
              "version_major": 2
            },
            "text/plain": [
              "interactive(children=(IntSlider(value=45, description='n', max=234, min=45, step=2), Output()), _dom_classes=(…"
            ]
          },
          "metadata": {}
        }
      ]
    },
    {
      "cell_type": "code",
      "metadata": {
        "id": "Xz6UtJpWuqLu"
      },
      "source": [
        ""
      ],
      "execution_count": null,
      "outputs": []
    },
    {
      "cell_type": "code",
      "metadata": {
        "colab": {
          "base_uri": "https://localhost:8080/",
          "height": 406,
          "referenced_widgets": [
            "ddfe88dc7d7f406dbb1841298c9c33d7",
            "46932e11ea3d4af2b882b0bf2e34142c",
            "dad2017970d8481ba9520ba2b2a76b48",
            "11734be1276a48989123ff492c18a598",
            "a74e1d42729242cab0ed09deb87409a0",
            "7d2a6b75ee314ea09c0199acc8931ed9",
            "739e0f33d0ae47f482831abf8d83c39f"
          ]
        },
        "id": "rk-V63As1c9I",
        "outputId": "22ada35d-086f-4db3-dc72-4fe274e6ae23"
      },
      "source": [
        "@interact (n = IntSlider(0,3,20))\n",
        "def function2(n):\n",
        "    tanlines(\"7*x**4\", n/10, 8)"
      ],
      "execution_count": null,
      "outputs": [
        {
          "output_type": "display_data",
          "data": {
            "application/vnd.jupyter.widget-view+json": {
              "model_id": "ddfe88dc7d7f406dbb1841298c9c33d7",
              "version_minor": 0,
              "version_major": 2
            },
            "text/plain": [
              "interactive(children=(IntSlider(value=3, description='n', max=20, min=3), Output()), _dom_classes=('widget-int…"
            ]
          },
          "metadata": {}
        }
      ]
    },
    {
      "cell_type": "code",
      "metadata": {
        "id": "NAniNYSo2q4l"
      },
      "source": [
        "y = sym.symbols('y')\n",
        "def newtonRaphsonmethod(function):\n",
        "    function = sym.sympify(function)\n",
        "    f = sym.lambdify(y,function)\n",
        "\n",
        "    yvalue = np.linespace (-8,9,87)\n",
        "    plt.figure(figsize=(6,3))\n",
        "    plt.plot(yvalue,f(yvalue), linewidth = 3)\n",
        "\n",
        "\n",
        "    dr= sym.diff(func, y)\n",
        "    y0 = 7\n",
        "    e  = 0.01\n",
        "    while abs (f(y))>= e:\n",
        "        y1 = y0 - f(y0)/ dr.subs(y, y0)\n",
        "        plt.plot((y1, y0),(0,f(y)), 'tab:orange')\n",
        "        y0 = y1\n",
        "    plt.xlim(0,8)\n",
        "    plt.ylim(0,89) \n"
      ],
      "execution_count": null,
      "outputs": []
    },
    {
      "cell_type": "code",
      "metadata": {
        "colab": {
          "base_uri": "https://localhost:8080/",
          "height": 287
        },
        "id": "uyPXdlTyDQDx",
        "outputId": "a97139d9-fd75-4075-b718-a4d2d36a5950"
      },
      "source": [
        "num=sym.symbols('x')\n",
        "def tanlines(d,e,k):\n",
        "  f=sym.sympify(d)\n",
        "  f1=sym.lambdify(x,f)\n",
        "  value_x = np.linspace(0,8, 70)\n",
        "  fig, ax = plt.subplots(figsize =(36,36))\n",
        "  ax.plot(value_x, f2(value_x), linewith = 10)\n",
        "  slope = sym.diff(f, x).subs(x, a)\n",
        "  ax.plot(value_x, f2(a) + slope * (value_x - a), 'tab:green', linewidth = 4)\n",
        "  circle = Circle ((a,f2(a)), 0.2)\n",
        "  ax.add_patch(circle)\n",
        "\n",
        "\n",
        "plt.xlim(0,70)\n",
        "plt.ylim(0,80)"
      ],
      "execution_count": null,
      "outputs": [
        {
          "output_type": "execute_result",
          "data": {
            "text/plain": [
              "(0.0, 80.0)"
            ]
          },
          "metadata": {},
          "execution_count": 9
        },
        {
          "output_type": "display_data",
          "data": {
            "image/png": "[encoded data removed]",
            "text/plain": [
              "<Figure size 432x288 with 1 Axes>"
            ]
          },
          "metadata": {
            "needs_background": "light"
          }
        }
      ]
    },
    {
      "cell_type": "code",
      "metadata": {
        "colab": {
          "base_uri": "https://localhost:8080/",
          "height": 413,
          "referenced_widgets": [
            "a762d5c62e70452f9e62f5a0705d2530",
            "fb88e25f61664806afb01273dde44285",
            "7bd4d6ea079f4183b3237f0216115e5e",
            "95064ad1042843fd8f8420c6ddd503ce",
            "639a7760e8054b61a2e392cd0f122ee5",
            "78f9c48148cd418f9b0a18dde476bd91",
            "99b55ad921704377b9ae01a92235626f"
          ]
        },
        "id": "bzfzpdGo6FHt",
        "outputId": "5aa34ee8-12e8-415b-d952-521fd3440734"
      },
      "source": [
        "@interact (n = IntSlider(0,3,20))\n",
        "def function3(n):\n",
        "    newtonRaphsonmethod('y**2-2')"
      ],
      "execution_count": null,
      "outputs": [
        {
          "output_type": "display_data",
          "data": {
            "application/vnd.jupyter.widget-view+json": {
              "model_id": "a762d5c62e70452f9e62f5a0705d2530",
              "version_minor": 0,
              "version_major": 2
            },
            "text/plain": [
              "interactive(children=(IntSlider(value=3, description='n', max=20, min=3), Output()), _dom_classes=('widget-int…"
            ]
          },
          "metadata": {}
        }
      ]
    }
  ]
}