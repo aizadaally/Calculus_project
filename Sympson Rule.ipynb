{
 "cells": [
  {
   "cell_type": "code",
   "execution_count": 1,
   "id": "fa287385",
   "metadata": {},
   "outputs": [],
   "source": [
    "import numpy as np\n",
    "import sympy as sym\n",
    "import matplotlib.pyplot as plt\n",
    "%matplotlib inline\n",
    "from sympy.abc import x"
   ]
  },
  {
   "cell_type": "code",
   "execution_count": null,
   "id": "e5b8a193",
   "metadata": {},
   "outputs": [],
   "source": [
    "f = input()"
   ]
  },
  {
   "cell_type": "code",
   "execution_count": 3,
   "id": "1c5eb35a",
   "metadata": {},
   "outputs": [
    {
     "data": {
      "text/plain": [
       "'x**2'"
      ]
     },
     "execution_count": 3,
     "metadata": {},
     "output_type": "execute_result"
    }
   ],
   "source": []
  },
  {
   "cell_type": "code",
   "execution_count": 4,
   "id": "39cc1332",
   "metadata": {},
   "outputs": [],
   "source": [
    "fsym= sym.sympify(f)"
   ]
  },
  {
   "cell_type": "code",
   "execution_count": 5,
   "id": "e79e590a",
   "metadata": {},
   "outputs": [
    {
     "data": {
      "text/latex": [
       "$\\displaystyle x^{2}$"
      ],
      "text/plain": [
       "x**2"
      ]
     },
     "execution_count": 5,
     "metadata": {},
     "output_type": "execute_result"
    }
   ],
   "source": [
    "fsym"
   ]
  },
  {
   "cell_type": "code",
   "execution_count": 6,
   "id": "8d4d4b40",
   "metadata": {},
   "outputs": [],
   "source": [
    "flam = sym.lambdify(x,fsym)"
   ]
  },
  {
   "cell_type": "code",
   "execution_count": 7,
   "id": "f3c41872",
   "metadata": {},
   "outputs": [
    {
     "data": {
      "text/plain": [
       "25"
      ]
     },
     "execution_count": 7,
     "metadata": {},
     "output_type": "execute_result"
    }
   ],
   "source": [
    "flam(5)"
   ]
  },
  {
   "cell_type": "code",
   "execution_count": 8,
   "id": "4fa89589",
   "metadata": {},
   "outputs": [
    {
     "name": "stdout",
     "output_type": "stream",
     "text": [
      "0 3\n"
     ]
    }
   ],
   "source": [
    "a,b= input().split()"
   ]
  },
  {
   "cell_type": "code",
   "execution_count": 63,
   "id": "0fc5b2b5",
   "metadata": {},
   "outputs": [
    {
     "data": {
      "text/plain": [
       "3"
      ]
     },
     "execution_count": 63,
     "metadata": {},
     "output_type": "execute_result"
    }
   ],
   "source": [
    "b"
   ]
  },
  {
   "cell_type": "code",
   "execution_count": 9,
   "id": "6faee41c",
   "metadata": {},
   "outputs": [],
   "source": [
    "a= int(a)\n",
    "b= int(b)"
   ]
  },
  {
   "cell_type": "code",
   "execution_count": 10,
   "id": "c4264fdc",
   "metadata": {},
   "outputs": [
    {
     "name": "stdout",
     "output_type": "stream",
     "text": [
      "3\n"
     ]
    }
   ],
   "source": [
    "n = input()"
   ]
  },
  {
   "cell_type": "code",
   "execution_count": 11,
   "id": "75148007",
   "metadata": {},
   "outputs": [],
   "source": [
    "n = int(n)"
   ]
  },
  {
   "cell_type": "code",
   "execution_count": 12,
   "id": "55a5f2b7",
   "metadata": {},
   "outputs": [],
   "source": [
    "dx= (b-a)/n"
   ]
  },
  {
   "cell_type": "code",
   "execution_count": 13,
   "id": "0e12a5d2",
   "metadata": {},
   "outputs": [
    {
     "data": {
      "text/plain": [
       "1.0"
      ]
     },
     "execution_count": 13,
     "metadata": {},
     "output_type": "execute_result"
    }
   ],
   "source": [
    "dx\n"
   ]
  },
  {
   "cell_type": "code",
   "execution_count": 35,
   "id": "4087cd3b",
   "metadata": {},
   "outputs": [],
   "source": [
    "xi= [a+i*dx for i in range(0,n+1)]"
   ]
  },
  {
   "cell_type": "code",
   "execution_count": 36,
   "id": "c286ced4",
   "metadata": {},
   "outputs": [
    {
     "data": {
      "text/plain": [
       "[0.0, 1.0, 2.0, 3.0]"
      ]
     },
     "execution_count": 36,
     "metadata": {},
     "output_type": "execute_result"
    }
   ],
   "source": [
    "(xi)"
   ]
  },
  {
   "cell_type": "code",
   "execution_count": 30,
   "id": "b8cd7a24",
   "metadata": {},
   "outputs": [],
   "source": [
    "xi2= [a+(i-1)*dx for i in range(0, n+1)]"
   ]
  },
  {
   "cell_type": "code",
   "execution_count": 31,
   "id": "c5bda69c",
   "metadata": {},
   "outputs": [
    {
     "data": {
      "text/plain": [
       "[-1.0, 0.0, 1.0, 2.0]"
      ]
     },
     "execution_count": 31,
     "metadata": {},
     "output_type": "execute_result"
    }
   ],
   "source": [
    "xi2"
   ]
  },
  {
   "cell_type": "code",
   "execution_count": 37,
   "id": "e463e5a4",
   "metadata": {},
   "outputs": [
    {
     "name": "stdout",
     "output_type": "stream",
     "text": [
      "0.0\n",
      "1.0\n",
      "2.0\n",
      "3.0\n"
     ]
    }
   ],
   "source": [
    "for i in range(0, n+1):\n",
    "    print(xi[i])"
   ]
  },
  {
   "cell_type": "code",
   "execution_count": 38,
   "id": "6a6b1f9d",
   "metadata": {},
   "outputs": [
    {
     "name": "stdout",
     "output_type": "stream",
     "text": [
      "-1.0\n",
      "0.0\n",
      "1.0\n",
      "2.0\n"
     ]
    }
   ],
   "source": [
    "for i in range(0,n+1):\n",
    "    print(xi2[i])"
   ]
  },
  {
   "cell_type": "code",
   "execution_count": 39,
   "id": "efce4a6e",
   "metadata": {},
   "outputs": [],
   "source": [
    "sum1=0\n",
    "for i in range(0, n+1):\n",
    "    sum1+= flam(xi[i])*dx\n"
   ]
  },
  {
   "cell_type": "code",
   "execution_count": 43,
   "id": "36120d2b",
   "metadata": {},
   "outputs": [
    {
     "data": {
      "text/plain": [
       "14.0"
      ]
     },
     "execution_count": 43,
     "metadata": {},
     "output_type": "execute_result"
    }
   ],
   "source": [
    "sum1"
   ]
  },
  {
   "cell_type": "code",
   "execution_count": 41,
   "id": "fe54efe3",
   "metadata": {},
   "outputs": [],
   "source": [
    "sum2=0\n",
    "for i in range(0, n+1):\n",
    "    sum2+=flam(xi2[i])*dx"
   ]
  },
  {
   "cell_type": "code",
   "execution_count": 42,
   "id": "d60efa8c",
   "metadata": {},
   "outputs": [
    {
     "data": {
      "text/plain": [
       "6.0"
      ]
     },
     "execution_count": 42,
     "metadata": {},
     "output_type": "execute_result"
    }
   ],
   "source": [
    "sum2"
   ]
  },
  {
   "cell_type": "code",
   "execution_count": 61,
   "id": "b0fe7c9d",
   "metadata": {},
   "outputs": [
    {
     "ename": "SyntaxError",
     "evalue": "invalid syntax (<ipython-input-61-8a965f09a3bf>, line 1)",
     "output_type": "error",
     "traceback": [
      "\u001b[1;36m  File \u001b[1;32m\"<ipython-input-61-8a965f09a3bf>\"\u001b[1;36m, line \u001b[1;32m1\u001b[0m\n\u001b[1;33m    m1= (xi2+xi)/2 for i in range (0,n+1)\u001b[0m\n\u001b[1;37m                   ^\u001b[0m\n\u001b[1;31mSyntaxError\u001b[0m\u001b[1;31m:\u001b[0m invalid syntax\n"
     ]
    }
   ],
   "source": [
    "m1= (xi2+xi)/2 for i in range (0,n+1)"
   ]
  },
  {
   "cell_type": "code",
   "execution_count": 59,
   "id": "be43faf8",
   "metadata": {},
   "outputs": [
    {
     "ename": "TypeError",
     "evalue": "'generator' object is not subscriptable",
     "output_type": "error",
     "traceback": [
      "\u001b[1;31m---------------------------------------------------------------------------\u001b[0m",
      "\u001b[1;31mTypeError\u001b[0m                                 Traceback (most recent call last)",
      "\u001b[1;32m<ipython-input-59-3178d8b98005>\u001b[0m in \u001b[0;36m<module>\u001b[1;34m\u001b[0m\n\u001b[0;32m      1\u001b[0m \u001b[1;32mfor\u001b[0m \u001b[0mi\u001b[0m \u001b[1;32min\u001b[0m \u001b[0mrange\u001b[0m\u001b[1;33m(\u001b[0m\u001b[1;36m0\u001b[0m\u001b[1;33m,\u001b[0m \u001b[0mn\u001b[0m\u001b[1;33m+\u001b[0m\u001b[1;36m1\u001b[0m\u001b[1;33m)\u001b[0m\u001b[1;33m:\u001b[0m\u001b[1;33m\u001b[0m\u001b[1;33m\u001b[0m\u001b[0m\n\u001b[1;32m----> 2\u001b[1;33m     \u001b[0mprint\u001b[0m\u001b[1;33m(\u001b[0m\u001b[0mm1\u001b[0m\u001b[1;33m[\u001b[0m\u001b[0mi\u001b[0m\u001b[1;33m]\u001b[0m\u001b[1;33m)\u001b[0m\u001b[1;33m\u001b[0m\u001b[1;33m\u001b[0m\u001b[0m\n\u001b[0m",
      "\u001b[1;31mTypeError\u001b[0m: 'generator' object is not subscriptable"
     ]
    }
   ],
   "source": [
    "for i in range(0, n+1):\n",
    "    print(m1[i])"
   ]
  },
  {
   "cell_type": "code",
   "execution_count": 62,
   "id": "4b096b22",
   "metadata": {},
   "outputs": [
    {
     "ename": "TypeError",
     "evalue": "'generator' object is not subscriptable",
     "output_type": "error",
     "traceback": [
      "\u001b[1;31m---------------------------------------------------------------------------\u001b[0m",
      "\u001b[1;31mTypeError\u001b[0m                                 Traceback (most recent call last)",
      "\u001b[1;32m<ipython-input-62-297973f961c7>\u001b[0m in \u001b[0;36m<module>\u001b[1;34m\u001b[0m\n\u001b[0;32m      1\u001b[0m \u001b[0msum3\u001b[0m\u001b[1;33m=\u001b[0m\u001b[1;36m0\u001b[0m\u001b[1;33m\u001b[0m\u001b[1;33m\u001b[0m\u001b[0m\n\u001b[0;32m      2\u001b[0m \u001b[1;32mfor\u001b[0m \u001b[0mi\u001b[0m \u001b[1;32min\u001b[0m \u001b[0mrange\u001b[0m\u001b[1;33m(\u001b[0m\u001b[1;36m0\u001b[0m\u001b[1;33m,\u001b[0m \u001b[0mn\u001b[0m\u001b[1;33m+\u001b[0m\u001b[1;36m1\u001b[0m\u001b[1;33m)\u001b[0m\u001b[1;33m:\u001b[0m\u001b[1;33m\u001b[0m\u001b[1;33m\u001b[0m\u001b[0m\n\u001b[1;32m----> 3\u001b[1;33m     \u001b[0msum3\u001b[0m\u001b[1;33m+=\u001b[0m\u001b[0mflam\u001b[0m\u001b[1;33m(\u001b[0m\u001b[0mm1\u001b[0m\u001b[1;33m[\u001b[0m\u001b[0mi\u001b[0m\u001b[1;33m]\u001b[0m\u001b[1;33m)\u001b[0m\u001b[1;33m*\u001b[0m\u001b[0mdx\u001b[0m\u001b[1;33m\u001b[0m\u001b[1;33m\u001b[0m\u001b[0m\n\u001b[0m",
      "\u001b[1;31mTypeError\u001b[0m: 'generator' object is not subscriptable"
     ]
    }
   ],
   "source": [
    "sum3=0\n",
    "for i in range(0, n+1):\n",
    "    sum3+=flam(m1[i])*dx"
   ]
  },
  {
   "cell_type": "code",
   "execution_count": 27,
   "id": "8c94d850",
   "metadata": {},
   "outputs": [],
   "source": [
    "x1= np.linspace(st)"
   ]
  },
  {
   "cell_type": "code",
   "execution_count": 2,
   "id": "524b4d90",
   "metadata": {},
   "outputs": [
    {
     "ename": "NameError",
     "evalue": "name 'aizada' is not defined",
     "output_type": "error",
     "traceback": [
      "\u001b[1;31m---------------------------------------------------------------------------\u001b[0m",
      "\u001b[1;31mNameError\u001b[0m                                 Traceback (most recent call last)",
      "\u001b[1;32m<ipython-input-2-ff69e3183fc0>\u001b[0m in \u001b[0;36m<module>\u001b[1;34m\u001b[0m\n\u001b[1;32m----> 1\u001b[1;33m \u001b[0maizada\u001b[0m\u001b[1;33m.\u001b[0m\u001b[0mplot\u001b[0m\u001b[1;33m(\u001b[0m\u001b[0mx1\u001b[0m\u001b[1;33m,\u001b[0m \u001b[0mflam\u001b[0m\u001b[1;33m(\u001b[0m\u001b[0mx1\u001b[0m\u001b[1;33m)\u001b[0m\u001b[1;33m)\u001b[0m\u001b[1;33m\u001b[0m\u001b[1;33m\u001b[0m\u001b[0m\n\u001b[0m\u001b[0;32m      2\u001b[0m \u001b[0mplt\u001b[0m\u001b[1;33m.\u001b[0m\u001b[0macorr\u001b[0m\u001b[1;33m(\u001b[0m\u001b[1;36m3\u001b[0m\u001b[1;33m,\u001b[0m \u001b[1;36m1\u001b[0m\u001b[1;33m,\u001b[0m \u001b[1;36m8\u001b[0m\u001b[1;33m)\u001b[0m\u001b[1;33m\u001b[0m\u001b[1;33m\u001b[0m\u001b[0m\n",
      "\u001b[1;31mNameError\u001b[0m: name 'aizada' is not defined"
     ]
    }
   ],
   "source": [
    "plt.plot(x1, flam(x1))\n",
    "plt."
   ]
  },
  {
   "cell_type": "code",
   "execution_count": null,
   "id": "8f0922bd",
   "metadata": {},
   "outputs": [],
   "source": [
    "while i <=n:\n",
    "    midpoint = (2*a+(2*i+1)*dx)/2\n",
    "    x1.append(midpoint)\n",
    "    f1.append(flam(midpoint))\n",
    "    sum1= sum1+flam(midpoint)*dx\n",
    "    Nf.append(sum1)\n",
    "    i = i+1\n",
    "print('Area is equal to = ', sum1)"
   ]
  }
 ],
 "metadata": {
  "kernelspec": {
   "display_name": "Python 3 (ipykernel)",
   "language": "python",
   "name": "python3"
  },
  "language_info": {
   "codemirror_mode": {
    "name": "ipython",
    "version": 3
   },
   "file_extension": ".py",
   "mimetype": "text/x-python",
   "name": "python",
   "nbconvert_exporter": "python",
   "pygments_lexer": "ipython3",
   "version": "3.8.10"
  }
 },
 "nbformat": 4,
 "nbformat_minor": 5
}
