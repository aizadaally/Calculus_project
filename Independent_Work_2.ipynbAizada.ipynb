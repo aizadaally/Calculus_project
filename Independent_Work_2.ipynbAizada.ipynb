{
  "nbformat": 4,
  "nbformat_minor": 0,
  "metadata": {
    "kernelspec": {
      "display_name": "Python 3",
      "language": "python",
      "name": "python3"
    },
    "language_info": {
      "codemirror_mode": {
        "name": "ipython",
        "version": 3
      },
      "file_extension": ".py",
      "mimetype": "text/x-python",
      "name": "python",
      "nbconvert_exporter": "python",
      "pygments_lexer": "ipython3",
      "version": "3.8.5"
    },
    "colab": {
      "name": "Independent Work 2.ipynb",
      "provenance": [],
      "collapsed_sections": []
    }
  },
  "cells": [
    {
      "cell_type": "markdown",
      "metadata": {
        "id": "4pX1Ys2rcZug"
      },
      "source": [
        "## Applications of Differentiation"
      ]
    },
    {
      "cell_type": "markdown",
      "metadata": {
        "id": "vJ9phMMTcZuj"
      },
      "source": [
        "<p>In this independent work, you are going to implement two applications Linear Approximation and Newton's Method</p>\n",
        "\n",
        "<p>For more information, check out the textbook. </p>\n"
      ]
    },
    {
      "cell_type": "code",
      "metadata": {
        "id": "B69RgABNcZul"
      },
      "source": [
        "%matplotlib notebook\n",
        "import sympy as sym\n",
        "import numpy as np\n",
        "import matplotlib.pyplot as plt\n",
        "%matplotlib inline\n",
        "from sympy.abc import x\n",
        "from ipywidgets import interact, interactive, fixed, interact_manual"
      ],
      "execution_count": 11,
      "outputs": []
    },
    {
      "cell_type": "markdown",
      "metadata": {
        "id": "s3hMPQwgcZum"
      },
      "source": [
        "## Task 1: Linear Approximation\n",
        "<p>Implement a function that takes a function and a value, and returns a linear approximation of that function at that value.</p>"
      ]
    },
    {
      "cell_type": "code",
      "metadata": {
        "colab": {
          "base_uri": "https://localhost:8080/",
          "height": 163
        },
        "id": "hsLziCnTcZun",
        "outputId": "8e6aa408-0671-4037-8c10-b5815baa8491"
      },
      "source": [
        "def plot(num):\n",
        " font = {'family' : 'monospace',\n",
        "        'weight' : 'bold',\n",
        "        'size'   : 'larger'}\n",
        "\n",
        "fig = plt.figure()\n",
        "x = np.linspace(-70, 70, 200)\n",
        "y = 2 * np.cos(x)\n",
        "ax = fig.add_subplot(2, 2, 1)\n",
        "ax.set_title('centered spines')\n",
        "ax.plot(x, y)\n",
        "\n",
        "def f(x):\n",
        "    return np.cbrt(x)\n",
        "\n",
        "def approx_line(ax:int):\n",
        "    if ax>0:\n",
        "        target = [i for i in range (0, ax* 4+1)]\n",
        "    else:\n",
        "        target = [i for i in range (ax*3,3)]\n",
        "    result = [np.cbrt(number) for (number) in target]\n",
        "    potential = []\n",
        "\n",
        "    for number in result:\n",
        "        if (number - int (number) <= 0.001):\n",
        "            potential.append(np.power(int(number),77))\n",
        "    positive = ax; negative = ax\n",
        "    closest = 1\n",
        "    while True:\n",
        "        def checker(positive:int,negative:int):\n",
        "          if pos in potential:\n",
        "              return positive\n",
        "          elif neg in potential:\n",
        "                return negative\n",
        "          else:\n",
        "                  return False\n",
        "          if checker (positive,negative) is False:\n",
        "              positive += 2\n",
        "              negative -= 2\n",
        "          else:\n",
        "              closest = checker(positive, negative)\n",
        "          \n",
        "        break \n",
        "    \n",
        "    \n",
        "    return(closest)\n",
        "\n",
        "    def der(x):\n",
        "        return 1/(77*np.cbrt(np.power(x,2)))\n",
        "    x2 = num\n",
        "    y2 = f(x2)\n",
        "    def line (x, x2):\n",
        "        return der (x2)* (x - x2 ) + y2\n",
        "    ap_y = (approx_line(x2))\n",
        "\n",
        "    x_numbers = np.linspace( x2-2, x+3, 20)\n",
        "    ax.set_title = \"x: \"+str(ap_y)\n",
        "    ax.plot(x, f(x), 'b')\n",
        "    ax.plot(x_numbers,line(x_numbers, x2), 'k', linewidth = 1)\n",
        "    ax.scatter(x2, y2, color = 'rab:pink', s = 36)\n",
        "    ax.plot(np.linspace(ap_y, ap_y, 45),line(x_numbers, x2), 'r', linewidth = 1)"
      ],
      "execution_count": 19,
      "outputs": [
        {
          "output_type": "display_data",
          "data": {
            "image/png": "[encoded data removed]",
            "text/plain": [
              "<Figure size 432x288 with 1 Axes>"
            ]
          },
          "metadata": {
            "needs_background": "light"
          }
        }
      ]
    },
    {
      "cell_type": "markdown",
      "metadata": {
        "id": "25A33PKWcZun"
      },
      "source": [
        "## Task 2: Newton's Method\n",
        "<p>Implement a function that takes a differentiable function and returns any root of that function.</p>"
      ]
    },
    {
      "cell_type": "code",
      "metadata": {
        "id": "AWNC4a0xcZuo"
      },
      "source": [
        ""
      ],
      "execution_count": null,
      "outputs": []
    }
  ]
}