{
 "cells": [
  {
   "cell_type": "markdown",
   "id": "64827ae9",
   "metadata": {},
   "source": [
    "by: **Aisha Toichieva**"
   ]
  },
  {
   "cell_type": "markdown",
   "id": "26166e78",
   "metadata": {},
   "source": [
    "# Independent Work 1:\n",
    "\n",
    "### Part 1:\n",
    "\n",
    "**Implement Maclaurin Polynomial.**\n",
    "\n",
    "`Input: f(x), n. Output: P_n(x)`\n",
    "\n",
    "\n",
    "\n",
    "\n",
    "\n"
   ]
  },
  {
   "cell_type": "code",
   "execution_count": 4,
   "id": "1260118d",
   "metadata": {},
   "outputs": [],
   "source": [
    "import math\n",
    "import numpy as np\n",
    "import sympy as sp\n",
    "import pandas as pd\n",
    "import matplotlib.pyplot as plt\n",
    "import matplotlib.animation as animation\n",
    "\n",
    "t, a = sp.symbols('t a')\n",
    "\n",
    "\n",
    "def maclurin_terms(func, order, point=0, derivatives=None):\n",
    "\n",
    "    # initialize list of derivatives\n",
    "    if derivatives is None:\n",
    "        derivatives = [func.subs({t: a})]\n",
    "\n",
    "    # check if highest order derivative is reached\n",
    "    if len(derivatives) > order:\n",
    "        # return list of taylor terms evaluated using substitution\n",
    "        return derivatives, [derivatives[i].subs({a: point}) / math.factorial(i) * (t - point) ** i for i in range(len(derivatives))]\n",
    "\n",
    "    # differentiate function with respect to t\n",
    "    derivative = func.diff(t)\n",
    "\n",
    "    # append to list of symbolic derivatives ** substitute t with a **\n",
    "    derivatives.append(derivative.subs({t: a}))\n",
    "\n",
    "    # recursive call to find next term in Taylor polynomial\n",
    "    return maclurin_terms(derivative, order, point, derivatives)\n",
    "\n",
    "\n",
    "def maclurin_polynomials(_terms):\n",
    "    # initialize list\n",
    "    polynomials = []\n",
    "\n",
    "    # initialize taylor polynomial\n",
    "    _poly = None\n",
    "\n",
    "    # loop through tayloer terms\n",
    "    for term in range(len(_terms)):\n",
    "        # build up polynomial on each iteration\n",
    "        _poly = _terms[term] if _poly is None else _poly + _terms[term]\n",
    "\n",
    "        # store current taylor polynomial\n",
    "        polynomials.append(_poly)\n",
    "\n",
    "    # return m polynomials\n",
    "    return polynomials\n",
    "\n"
   ]
  },
  {
   "cell_type": "markdown",
   "id": "ae412b0c",
   "metadata": {},
   "source": [
    "**Bonus: Comparing the graphs of f(x) and P_n(x) for Maclurin Polynomials**"
   ]
  },
  {
   "cell_type": "code",
   "execution_count": 71,
   "id": "a5480719",
   "metadata": {},
   "outputs": [
    {
     "data": {
      "image/png": "[encoded data removed]",
      "text/plain": [
       "<Figure size 432x288 with 1 Axes>"
      ]
     },
     "metadata": {
      "needs_background": "light"
     },
     "output_type": "display_data"
    },
    {
     "data": {
      "text/html": [
       "<div>\n",
       "<style scoped>\n",
       "    .dataframe tbody tr th:only-of-type {\n",
       "        vertical-align: middle;\n",
       "    }\n",
       "\n",
       "    .dataframe tbody tr th {\n",
       "        vertical-align: top;\n",
       "    }\n",
       "\n",
       "    .dataframe thead th {\n",
       "        text-align: right;\n",
       "    }\n",
       "</style>\n",
       "<table border=\"1\" class=\"dataframe\">\n",
       "  <thead>\n",
       "    <tr style=\"text-align: right;\">\n",
       "      <th></th>\n",
       "      <th>symbolic_derivatives</th>\n",
       "      <th>maclurin_terms</th>\n",
       "      <th>polynomials</th>\n",
       "    </tr>\n",
       "  </thead>\n",
       "  <tbody>\n",
       "    <tr>\n",
       "      <th>0</th>\n",
       "      <td>cos(a)</td>\n",
       "      <td>-1.00000000000000</td>\n",
       "      <td>-1.00000000000000</td>\n",
       "    </tr>\n",
       "    <tr>\n",
       "      <th>1</th>\n",
       "      <td>-sin(a)</td>\n",
       "      <td>3.84734138744358e-16 - 1.22464679914735e-16*t</td>\n",
       "      <td>-1.22464679914735e-16*t - 1.0</td>\n",
       "    </tr>\n",
       "    <tr>\n",
       "      <th>2</th>\n",
       "      <td>-cos(a)</td>\n",
       "      <td>4.93480220054468*(0.318309886183791*t - 1)**2</td>\n",
       "      <td>-1.22464679914735e-16*t + 4.93480220054468*(0....</td>\n",
       "    </tr>\n",
       "    <tr>\n",
       "      <th>3</th>\n",
       "      <td>sin(a)</td>\n",
       "      <td>6.32862291500106e-16*(0.318309886183791*t - 1)**3</td>\n",
       "      <td>-1.22464679914735e-16*t + 6.32862291500106e-16...</td>\n",
       "    </tr>\n",
       "    <tr>\n",
       "      <th>4</th>\n",
       "      <td>cos(a)</td>\n",
       "      <td>-4.05871212641677*(0.318309886183791*t - 1)**4</td>\n",
       "      <td>-1.22464679914735e-16*t - 4.05871212641677*(0....</td>\n",
       "    </tr>\n",
       "  </tbody>\n",
       "</table>\n",
       "</div>"
      ],
      "text/plain": [
       "  symbolic_derivatives                                     maclurin_terms  \\\n",
       "0               cos(a)                                  -1.00000000000000   \n",
       "1              -sin(a)      3.84734138744358e-16 - 1.22464679914735e-16*t   \n",
       "2              -cos(a)      4.93480220054468*(0.318309886183791*t - 1)**2   \n",
       "3               sin(a)  6.32862291500106e-16*(0.318309886183791*t - 1)**3   \n",
       "4               cos(a)     -4.05871212641677*(0.318309886183791*t - 1)**4   \n",
       "\n",
       "                                         polynomials  \n",
       "0                                  -1.00000000000000  \n",
       "1                      -1.22464679914735e-16*t - 1.0  \n",
       "2  -1.22464679914735e-16*t + 4.93480220054468*(0....  \n",
       "3  -1.22464679914735e-16*t + 6.32862291500106e-16...  \n",
       "4  -1.22464679914735e-16*t - 4.05871212641677*(0....  "
      ]
     },
     "execution_count": 71,
     "metadata": {},
     "output_type": "execute_result"
    },
    {
     "data": {
      "image/png": "[encoded data removed]",
      "text/plain": [
       "<Figure size 432x288 with 1 Axes>"
      ]
     },
     "metadata": {
      "needs_background": "light"
     },
     "output_type": "display_data"
    }
   ],
   "source": [
    "# Graph for P_n(X)\n",
    "\n",
    "label = 'cos(t)'\n",
    "# find m polynomial terms describing function f(t)\n",
    "symbolic_derivatives, terms = maclurin_terms(func=sp.cos(t), order=4, point=math.pi)\n",
    "polys = maclurin_polynomials(terms)\n",
    "\n",
    "fig, ax = plt.subplots()\n",
    "ax.set(xlabel='t', ylabel='y', title=f'Maclurin Polynomial Approximation: {label}')\n",
    "legend = []\n",
    "\n",
    "for p, poly in enumerate(polys):\n",
    "    # plot current polynomial approximation\n",
    "    ax.plot(time, [poly.subs({t: point}) for point in time])\n",
    "\n",
    "    # append item to legend\n",
    "    legend.append(f'P{p}')\n",
    "\n",
    "\n",
    "# save and show results\n",
    "ax.legend(legend)\n",
    "ax.grid()\n",
    "plt.show()\n",
    "\n",
    "\n",
    "# Graph for f_x\n",
    "x_values = np.arange(0, math.pi*2, 0.05)\n",
    "# print(x_values)\n",
    "f_x=[]\n",
    "for i in range(len(x_values)):\n",
    "    f_x.append(math.cos(x_values[i]))\n",
    "#     f_x[i+1]=math.cos(x_values[i])\n",
    "plt.plot(x_values,f_x)\n",
    "\n",
    "\n",
    "# checking the resulting values in dataframe\n",
    "df = pd.DataFrame({'symbolic_derivatives': symbolic_derivatives,\n",
    "                       'maclurin_terms': terms,\n",
    "                       'polynomials': polys\n",
    "                       })\n",
    "df.head()"
   ]
  },
  {
   "cell_type": "markdown",
   "id": "eb9c8598",
   "metadata": {},
   "source": [
    "**Implement Taylor Polynomial.** \n",
    "\n",
    "`Input: f(x), c, n. Output: P_n(x)`\n",
    "        "
   ]
  },
  {
   "cell_type": "code",
   "execution_count": 66,
   "id": "b529feea",
   "metadata": {},
   "outputs": [],
   "source": [
    "import math\n",
    "import numpy as np\n",
    "import sympy as sp\n",
    "import pandas as pd\n",
    "import matplotlib.pyplot as plt\n",
    "import matplotlib.animation as animation\n",
    "\n",
    "t, a = sp.symbols('t a')\n",
    "\n",
    "\n",
    "def taylor_terms(func, order, point, derivatives=None):\n",
    "\n",
    "    # initialize list of derivatives\n",
    "    if derivatives is None:\n",
    "        derivatives = [func.subs({t: a})]\n",
    "\n",
    "    # check if highest order derivative is reached\n",
    "    if len(derivatives) > order:\n",
    "        # return list of taylor terms evaluated using substitution\n",
    "        return derivatives,[derivatives[i].subs({a: point}) / math.factorial(i) * (t - point) ** i for i in range(len(derivatives))]\n",
    "\n",
    "    # differentiate function with respect to t\n",
    "    derivative = func.diff(t)\n",
    "\n",
    "    # append to list of symbolic derivatives ** substitute t with a **\n",
    "    derivatives.append(derivative.subs({t: a}))\n",
    "\n",
    "    # recursive call to find next term in Taylor polynomial\n",
    "    return taylor_terms(derivative, order, point, derivatives)\n",
    "\n",
    "\n",
    "def taylor_polynomials(_terms):\n",
    "    # initialize list\n",
    "    polynomials = []\n",
    "\n",
    "    # initialize taylor polynomial\n",
    "    _poly = None\n",
    "\n",
    "    # loop through tayloer terms\n",
    "    for term in range(len(_terms)):\n",
    "        # build up polynomial on each iteration\n",
    "        _poly = _terms[term] if _poly is None else _poly + _terms[term]\n",
    "\n",
    "        # store current taylor polynomial\n",
    "        polynomials.append(_poly)\n",
    "\n",
    "    # return taylor polynomials\n",
    "    return polynomials\n",
    "\n",
    "\n"
   ]
  },
  {
   "cell_type": "markdown",
   "id": "5f611b86",
   "metadata": {},
   "source": [
    "**Bonus: Comparing the graphs of f(x) and P_n(x)**"
   ]
  },
  {
   "cell_type": "code",
   "execution_count": 68,
   "id": "b7c2d7d8",
   "metadata": {},
   "outputs": [
    {
     "data": {
      "image/png": "[encoded data removed]",
      "text/plain": [
       "<Figure size 432x288 with 1 Axes>"
      ]
     },
     "metadata": {
      "needs_background": "light"
     },
     "output_type": "display_data"
    },
    {
     "data": {
      "text/html": [
       "<div>\n",
       "<style scoped>\n",
       "    .dataframe tbody tr th:only-of-type {\n",
       "        vertical-align: middle;\n",
       "    }\n",
       "\n",
       "    .dataframe tbody tr th {\n",
       "        vertical-align: top;\n",
       "    }\n",
       "\n",
       "    .dataframe thead th {\n",
       "        text-align: right;\n",
       "    }\n",
       "</style>\n",
       "<table border=\"1\" class=\"dataframe\">\n",
       "  <thead>\n",
       "    <tr style=\"text-align: right;\">\n",
       "      <th></th>\n",
       "      <th>symbolic_derivatives</th>\n",
       "      <th>taylor_terms</th>\n",
       "      <th>polynomials</th>\n",
       "    </tr>\n",
       "  </thead>\n",
       "  <tbody>\n",
       "    <tr>\n",
       "      <th>0</th>\n",
       "      <td>sin(a)</td>\n",
       "      <td>1.22464679914735e-16</td>\n",
       "      <td>1.22464679914735e-16</td>\n",
       "    </tr>\n",
       "    <tr>\n",
       "      <th>1</th>\n",
       "      <td>cos(a)</td>\n",
       "      <td>3.14159265358979 - 1.0*t</td>\n",
       "      <td>3.14159265358979 - 1.0*t</td>\n",
       "    </tr>\n",
       "    <tr>\n",
       "      <th>2</th>\n",
       "      <td>-sin(a)</td>\n",
       "      <td>-6.04338971932236e-16*(0.318309886183791*t - 1...</td>\n",
       "      <td>-1.0*t - 6.04338971932236e-16*(0.3183098861837...</td>\n",
       "    </tr>\n",
       "    <tr>\n",
       "      <th>3</th>\n",
       "      <td>-cos(a)</td>\n",
       "      <td>5.16771278004997*(0.318309886183791*t - 1)**3</td>\n",
       "      <td>-1.0*t + 5.16771278004997*(0.318309886183791*t...</td>\n",
       "    </tr>\n",
       "    <tr>\n",
       "      <th>4</th>\n",
       "      <td>sin(a)</td>\n",
       "      <td>4.97048881427684e-16*(0.318309886183791*t - 1)**4</td>\n",
       "      <td>-1.0*t + 4.97048881427684e-16*(0.3183098861837...</td>\n",
       "    </tr>\n",
       "  </tbody>\n",
       "</table>\n",
       "</div>"
      ],
      "text/plain": [
       "  symbolic_derivatives                                       taylor_terms  \\\n",
       "0               sin(a)                               1.22464679914735e-16   \n",
       "1               cos(a)                           3.14159265358979 - 1.0*t   \n",
       "2              -sin(a)  -6.04338971932236e-16*(0.318309886183791*t - 1...   \n",
       "3              -cos(a)      5.16771278004997*(0.318309886183791*t - 1)**3   \n",
       "4               sin(a)  4.97048881427684e-16*(0.318309886183791*t - 1)**4   \n",
       "\n",
       "                                         polynomials  \n",
       "0                               1.22464679914735e-16  \n",
       "1                           3.14159265358979 - 1.0*t  \n",
       "2  -1.0*t - 6.04338971932236e-16*(0.3183098861837...  \n",
       "3  -1.0*t + 5.16771278004997*(0.318309886183791*t...  \n",
       "4  -1.0*t + 4.97048881427684e-16*(0.3183098861837...  "
      ]
     },
     "execution_count": 68,
     "metadata": {},
     "output_type": "execute_result"
    },
    {
     "data": {
      "image/png": "[encoded data removed]",
      "text/plain": [
       "<Figure size 432x288 with 1 Axes>"
      ]
     },
     "metadata": {
      "needs_background": "light"
     },
     "output_type": "display_data"
    }
   ],
   "source": [
    "\n",
    "label = 'sin(t)'\n",
    "# find taylor polynomial terms describing function f(t)\n",
    "symbolic_derivatives, terms = taylor_terms(func=sp.sin(t), order=4, point=math.pi)\n",
    "polys = taylor_polynomials(terms)\n",
    "\n",
    "fig, ax = plt.subplots()\n",
    "ax.set(xlabel='t', ylabel='y', title=f'Taylor Polynomial Approximation: {label}')\n",
    "legend = []\n",
    "\n",
    "for p, poly in enumerate(polys):\n",
    "    # plot current polynomial approximation\n",
    "    ax.plot(time, [poly.subs({t: point}) for point in time])\n",
    "\n",
    "    # append item to legend\n",
    "    legend.append(f'P{p}')\n",
    "\n",
    "\n",
    "ax.legend(legend)\n",
    "ax.grid()\n",
    "plt.show()\n",
    "\n",
    "\n",
    "x_values = np.arange(0, math.pi*2, 0.05)\n",
    "# print(x_values)\n",
    "f_x=[]\n",
    "for i in range(len(x_values)):\n",
    "    f_x.append(math.sin(x_values[i]))\n",
    "#     f_x[i+1]=math.cos(x_values[i])\n",
    "plt.plot(x_values,f_x)\n",
    "\n",
    "\n",
    "df = pd.DataFrame({'symbolic_derivatives': symbolic_derivatives,\n",
    "                       'taylor_terms': terms,\n",
    "                       'polynomials': polys\n",
    "                       })\n",
    "df.head()"
   ]
  },
  {
   "cell_type": "markdown",
   "id": "30c08f42",
   "metadata": {},
   "source": [
    "## Reference for Part - I\n",
    "\n",
    "> ***I found a great tutorial*** [here](https://python.plainenglish.io/how-to-approximate-a-function-using-taylor-polynomials-in-python-d43e55fd90b5)"
   ]
  },
  {
   "cell_type": "markdown",
   "id": "8d8f8b9e",
   "metadata": {},
   "source": [
    "# Part 2:\n"
   ]
  },
  {
   "cell_type": "markdown",
   "id": "ace8760e",
   "metadata": {},
   "source": [
    "### Approximate Pi using arctan1"
   ]
  },
  {
   "cell_type": "code",
   "execution_count": 169,
   "id": "25066296",
   "metadata": {},
   "outputs": [],
   "source": [
    "import gmpy2\n",
    "import sys\n",
    "from gmpy2 import mpfr, sqrt, atan, ceil, factorial\n",
    "from itertools import product\n",
    "\n",
    "gmpy2.get_context().precision = 339"
   ]
  },
  {
   "cell_type": "code",
   "execution_count": 192,
   "id": "20228e85",
   "metadata": {},
   "outputs": [],
   "source": [
    "def Arctangent(n):\n",
    "    term = lambda x: mpfr((2 ** (x + 1) * factorial(x) ** 2) / factorial(2 * x + 1))\n",
    "    return '{0:.150f}'.format(mpfr(sum(term(i) for i in range(n))))\n"
   ]
  },
  {
   "cell_type": "code",
   "execution_count": 193,
   "id": "346eaa81",
   "metadata": {},
   "outputs": [],
   "source": [
    "pi_A=Arctangent(13)"
   ]
  },
  {
   "cell_type": "code",
   "execution_count": 194,
   "id": "835937a7",
   "metadata": {},
   "outputs": [
    {
     "data": {
      "text/plain": [
       "str"
      ]
     },
     "execution_count": 194,
     "metadata": {},
     "output_type": "execute_result"
    }
   ],
   "source": [
    "type(pi_A)"
   ]
  },
  {
   "cell_type": "code",
   "execution_count": 195,
   "id": "beb3c60f",
   "metadata": {},
   "outputs": [
    {
     "name": "stdout",
     "output_type": "stream",
     "text": [
      "['3', '.', '1', '4', '1', '4', '7', '9', '6', '4', '8', '9', '6', '1', '1', '4', '0', '4', '1', '3', '5', '5', '6', '6', '2', '0', '3', '1', '3', '9', '2', '2', '7', '7', '7', '2', '4', '2', '2', '0', '1', '1', '2', '1', '5', '9', '2', '6', '9', '5', '1', '5', '5', '7', '5', '8', '8', '2', '5', '1', '6', '2', '5', '1', '3', '4', '1', '1', '2', '6', '8', '2', '9', '0', '7', '9', '4', '4', '7', '1', '9', '7', '6', '3', '2', '6', '8', '6', '9', '3', '1', '3', '8', '1', '2', '3', '7', '4', '7', '8', '9', '6', '2', '3', '4', '1', '6', '3', '8', '5', '6', '7', '9', '6', '9', '2', '9', '2', '0', '2', '2', '0', '6', '0', '8', '2', '9', '7', '6', '8', '6', '8', '8', '0', '7', '4', '1', '6', '6', '7', '3', '2', '2', '2', '0', '0', '2', '5', '5', '9', '4', '3']\n"
     ]
    }
   ],
   "source": [
    "pi_Alist=list(pi_A)\n",
    "print(pi_Alist)"
   ]
  },
  {
   "cell_type": "markdown",
   "id": "51861473",
   "metadata": {},
   "source": [
    "### Approximate Pi using Ramanujan's Series "
   ]
  },
  {
   "cell_type": "code",
   "execution_count": 188,
   "id": "a1893731",
   "metadata": {},
   "outputs": [],
   "source": [
    "def Ramanujan(n):\n",
    "    term = lambda k: mpfr(factorial(4 * k) * (1103 + 26390 * k)) / (factorial(k) ** 4 * 396 ** (4 * k))\n",
    "    s = sum(term(i) for i in range(n))\n",
    "    return '{0:.150f}'.format(mpfr(1) / (2 * sqrt(2) * s / 9801))"
   ]
  },
  {
   "cell_type": "code",
   "execution_count": 189,
   "id": "11e68455",
   "metadata": {},
   "outputs": [],
   "source": [
    "pi_R=Ramanujan(13)"
   ]
  },
  {
   "cell_type": "code",
   "execution_count": 190,
   "id": "2824a4ff",
   "metadata": {},
   "outputs": [
    {
     "data": {
      "text/plain": [
       "str"
      ]
     },
     "execution_count": 190,
     "metadata": {},
     "output_type": "execute_result"
    }
   ],
   "source": [
    "type(pi_R)"
   ]
  },
  {
   "cell_type": "code",
   "execution_count": 191,
   "id": "a7629462",
   "metadata": {},
   "outputs": [
    {
     "name": "stdout",
     "output_type": "stream",
     "text": [
      "['3', '.', '1', '4', '1', '5', '9', '2', '6', '5', '3', '5', '8', '9', '7', '9', '3', '2', '3', '8', '4', '6', '2', '6', '4', '3', '3', '8', '3', '2', '7', '9', '5', '0', '2', '8', '8', '4', '1', '9', '7', '1', '6', '9', '3', '9', '9', '3', '7', '5', '1', '0', '5', '8', '2', '0', '9', '7', '4', '9', '4', '4', '5', '9', '2', '3', '0', '7', '8', '1', '6', '4', '0', '6', '2', '8', '6', '2', '0', '8', '9', '9', '8', '6', '2', '8', '0', '3', '4', '8', '2', '5', '3', '4', '2', '1', '1', '7', '0', '6', '7', '9', '7', '9', '2', '7', '9', '1', '9', '3', '7', '1', '1', '5', '2', '2', '6', '6', '9', '2', '0', '8', '5', '9', '4', '9', '4', '6', '5', '4', '9', '0', '5', '4', '8', '7', '0', '9', '8', '3', '9', '0', '6', '0', '2', '0', '9', '2', '3', '1', '6', '0']\n"
     ]
    }
   ],
   "source": [
    "pi_Rlist = list(pi_R)\n",
    "print(pi_Rlist)"
   ]
  },
  {
   "cell_type": "markdown",
   "id": "fa306e75",
   "metadata": {},
   "source": [
    "### Reference:\n",
    "[here](https://codereview.stackexchange.com/questions/262671/python-3-approximate-pi-using-9-algorithms)"
   ]
  },
  {
   "cell_type": "code",
   "execution_count": null,
   "id": "c48c2946",
   "metadata": {},
   "outputs": [],
   "source": []
  },
  {
   "cell_type": "markdown",
   "id": "ad02257c",
   "metadata": {},
   "source": [
    "## Comparing the two algorithms"
   ]
  },
  {
   "cell_type": "code",
   "execution_count": 178,
   "id": "12105e80",
   "metadata": {},
   "outputs": [
    {
     "name": "stdout",
     "output_type": "stream",
     "text": [
      "60 µs ± 5.59 µs per loop (mean ± std. dev. of 7 runs, 10000 loops each)\n"
     ]
    }
   ],
   "source": [
    "%timeit Ramanujan(13)\n"
   ]
  },
  {
   "cell_type": "code",
   "execution_count": 179,
   "id": "24d7ecfa",
   "metadata": {},
   "outputs": [
    {
     "name": "stdout",
     "output_type": "stream",
     "text": [
      "43.4 µs ± 3.34 µs per loop (mean ± std. dev. of 7 runs, 10000 loops each)\n"
     ]
    }
   ],
   "source": [
    "%timeit Arctangent(13)"
   ]
  },
  {
   "cell_type": "markdown",
   "id": "18b842a2",
   "metadata": {},
   "source": [
    "In terms of time for execution as we can see, Ramanujan method took 60 micro second which is much greater as compare to the 43.4 micro seconds for Arctangent.\n",
    "> Result: **Therefore, the best is of two is Arctanget.**"
   ]
  },
  {
   "cell_type": "code",
   "execution_count": 181,
   "id": "997985be",
   "metadata": {},
   "outputs": [
    {
     "data": {
      "text/plain": [
       "True"
      ]
     },
     "execution_count": 181,
     "metadata": {},
     "output_type": "execute_result"
    }
   ],
   "source": [
    "0.0000060 > 0.00000433"
   ]
  },
  {
   "cell_type": "markdown",
   "id": "45e0b1d9",
   "metadata": {},
   "source": [
    "In term of excatness to the pi, we can compare how long the digits of the pi from both methods match the standard calculated pi [here](http://www.geom.uiuc.edu/~huberty/math5337/groupe/digits.html).\n"
   ]
  },
  {
   "cell_type": "code",
   "execution_count": 196,
   "id": "47e5c82f",
   "metadata": {},
   "outputs": [
    {
     "data": {
      "text/plain": [
       "152"
      ]
     },
     "execution_count": 196,
     "metadata": {},
     "output_type": "execute_result"
    }
   ],
   "source": [
    "len(pi_Alist)"
   ]
  },
  {
   "cell_type": "code",
   "execution_count": 197,
   "id": "bfdae7ef",
   "metadata": {},
   "outputs": [
    {
     "data": {
      "text/plain": [
       "152"
      ]
     },
     "execution_count": 197,
     "metadata": {},
     "output_type": "execute_result"
    }
   ],
   "source": [
    "len(pi_Rlist)"
   ]
  },
  {
   "cell_type": "code",
   "execution_count": 198,
   "id": "b87fc283",
   "metadata": {},
   "outputs": [
    {
     "name": "stdout",
     "output_type": "stream",
     "text": [
      "['3', '.', '1', '4', '1', '5', '9', '2', '6', '5', '3', '5', '8', '9', '7', '9', '3', '2', '3', '8', '4', '6', '2', '6', '4', '3', '3', '8', '3', '2', '7', '9', '5', '0', '2', '8', '8', '4', '1', '9', '7', '1', '6', '9', '3', '9', '9', '3', '7', '5', '1', '0', '5', '8', '2', '0', '9', '7', '4', '9', '4', '4', '5', '9', '2', '3', '0', '7', '8', '1', '6', '4', '0', '6', '2', '8', '6', '2', '0', '8', '9', '9', '8', '6', '2', '8', '0', '3', '4', '8', '2', '5', '3', '4', '2', '1', '1', '7', '0', '6', '7', '9', '8', '2', '1', '4', '8', '0', '8', '6', '5', '1', '3', '2', '8', '2', '3', '0', '6', '6', '4', '7', '0', '9', '3', '8', '4', '4', '6', '0', '9', '5', '5', '0', '5', '8', '2', '2', '3', '1', '7', '2', '5', '3', '5', '9', '4', '0', '8', '1', '2', '8', '4', '8', '1', '1', '1', '7', '4', '5', '0', '2', '8', '4', '1', '0', '2', '7', '0', '1', '9', '3', '8', '5', '2', '1', '1', '0', '5', '5', '5', '9', '6', '4', '4', '6', '2', '2', '9', '4', '8', '9', '5', '4', '9', '3', '0', '3', '8', '1', '9', '6', '4', '4', '2', '8', '8', '1', '0', '9', '7', '5', '6', '6', '5', '9', '3', '3', '4', '4', '6', '1', '2', '8', '4', '7', '5', '6', '4', '8', '2', '3', '3']\n"
     ]
    }
   ],
   "source": [
    "pii_to_compare=list('3.141592653589793238462643383279502884197169399375105820974944592307816406286208998628034825342117067982148086513282306647093844609550582231725359408128481117450284102701938521105559644622948954930381964428810975665933446128475648233')\n",
    "print(pii_to_compare)"
   ]
  },
  {
   "cell_type": "code",
   "execution_count": 202,
   "id": "142967f6",
   "metadata": {},
   "outputs": [
    {
     "name": "stdout",
     "output_type": "stream",
     "text": [
      "both have/gave same accurate value of pi till the decimal point  151\n",
      "The decimal point accuracy for A=151\n",
      "The decimal point accuracy for R=151\n"
     ]
    }
   ],
   "source": [
    "# comparing the pis to see which algo. gave more decimal point accracy\n",
    "\n",
    "decimal_point_forA=0\n",
    "decimal_point_forR=0\n",
    "\n",
    "for i in range(len(pi_Alist)):\n",
    "    if pi_Alist[i]!=pii_to_compare[i]:\n",
    "        decimal_point_forA=i\n",
    "    if pi_Rlist[i] != pii_to_compare[i]:\n",
    "        decimal_point_forR=i\n",
    "\n",
    "if decimal_point_forA==decimal_point_forR:\n",
    "    print(\"both have/gave same accurate value of pi till the decimal point \", decimal_point_forA)\n",
    "#     print(f\"The decimal point accuracy for A={decimal_point_forA}\\nThe decimal point accuracy for R={decimal_point_forR}\")\n",
    "elif decimal_point_forA> decimal_point_forR:\n",
    "    print(\"Arctagent gave more accurate value of pi, till the decimal point of \", decimal_point_forA)\n",
    "    \n",
    "else:\n",
    "    print(\"Ramanujan  gave more accurate value of pi\")\n",
    "print(f\"The decimal point accuracy for A={decimal_point_forA}\\nThe decimal point accuracy for R={decimal_point_forR}\")"
   ]
  },
  {
   "cell_type": "code",
   "execution_count": null,
   "id": "bbc556ac",
   "metadata": {},
   "outputs": [],
   "source": []
  }
 ],
 "metadata": {
  "kernelspec": {
   "display_name": "Python 3 (ipykernel)",
   "language": "python",
   "name": "python3"
  },
  "language_info": {
   "codemirror_mode": {
    "name": "ipython",
    "version": 3
   },
   "file_extension": ".py",
   "mimetype": "text/x-python",
   "name": "python",
   "nbconvert_exporter": "python",
   "pygments_lexer": "ipython3",
   "version": "3.8.10"
  }
 },
 "nbformat": 4,
 "nbformat_minor": 5
}
