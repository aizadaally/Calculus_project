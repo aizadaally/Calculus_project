{
  "nbformat": 4,
  "nbformat_minor": 0,
  "metadata": {
    "kernelspec": {
      "display_name": "Python 3",
      "language": "python",
      "name": "python3"
    },
    "language_info": {
      "codemirror_mode": {
        "name": "ipython",
        "version": 3
      },
      "file_extension": ".py",
      "mimetype": "text/x-python",
      "name": "python",
      "nbconvert_exporter": "python",
      "pygments_lexer": "ipython3",
      "version": "3.8.5"
    },
    "colab": {
      "name": "Independent Work 1.ipynb",
      "provenance": [],
      "collapsed_sections": [
        "Vt0jho7yXKlg"
      ],
      "toc_visible": true
    }
  },
  "cells": [
    {
      "cell_type": "markdown",
      "metadata": {
        "id": "Vt0jho7yXKlg"
      },
      "source": [
        "## Limit of a Function"
      ]
    },
    {
      "cell_type": "markdown",
      "metadata": {
        "id": "5CC4ohYaPYvc"
      },
      "source": [
        "# Новый раздел"
      ]
    },
    {
      "cell_type": "markdown",
      "metadata": {
        "id": "UMpqtk4CXKlo"
      },
      "source": [
        "<p>In this independent work, you are going to analyze one of the indeterminate form \n",
        "$1^ \\infty $ </p>\n",
        "\n",
        "<p>For the simplicity, we will be looking at the limit as $x$ approaches 0 from left; that is, $x \\to 0 ^ {-} $\n"
      ]
    },
    {
      "cell_type": "code",
      "metadata": {
        "id": "ACDUOakqXKlt"
      },
      "source": [
        "import sympy as sym\n",
        "import numpy as np\n",
        "import matplotlib.pyplot as plt\n",
        "%matplotlib inline\n",
        "from sympy.abc import x\n",
        "import math"
      ],
      "execution_count": null,
      "outputs": []
    },
    {
      "cell_type": "markdown",
      "metadata": {
        "id": "5au83XEgXKlu"
      },
      "source": [
        "## Task 1:\n",
        "<p><ul>\n",
        "<li> Find a function $f(x)$ (preferably rational function) such that <br> $\\lim_{x \\to 0^{-}} f(x) = 0$ </li>\n",
        "<li> Show that the limit is 0 (by making a table of values) </li>\n",
        "<li> Draw the graph of the function in the interval $[-3,3]$ </li></ul></p>"
      ]
    },
    {
      "cell_type": "code",
      "metadata": {
        "id": "Q5_yZ8UxPRQd"
      },
      "source": [
        "from google.colab import drive\n",
        "drive.mount('/content/drive')"
      ],
      "execution_count": null,
      "outputs": []
    },
    {
      "cell_type": "code",
      "metadata": {
        "colab": {
          "base_uri": "https://localhost:8080/"
        },
        "id": "A5jtcC5vcMtR",
        "outputId": "1fb8eba7-301e-4296-d2f8-892b4570a964"
      },
      "source": [
        "values = np.array([-1,-0.1,-0.01,-0.001,-0.0001,-0.00001,0,0.00001,0.0001,0.001,0.01,0.1,1])\n",
        "f = sym.lambdify(x, x/(x+1))\n",
        "for value in values:\n",
        "  print(f(value))\n"
      ],
      "execution_count": null,
      "outputs": [
        {
          "output_type": "stream",
          "name": "stdout",
          "text": [
            "-inf\n",
            "-0.11111111111111112\n",
            "-0.010101010101010102\n",
            "-0.001001001001001001\n",
            "-0.00010001000100010001\n",
            "-1.000010000100001e-05\n",
            "0.0\n",
            "9.99990000099999e-06\n",
            "9.999000099990002e-05\n",
            "0.0009990009990009992\n",
            "0.009900990099009901\n",
            "0.09090909090909091\n",
            "0.5\n"
          ]
        },
        {
          "output_type": "stream",
          "name": "stderr",
          "text": [
            "<string>:2: RuntimeWarning: divide by zero encountered in double_scalars\n"
          ]
        }
      ]
    },
    {
      "cell_type": "code",
      "metadata": {
        "colab": {
          "base_uri": "https://localhost:8080/"
        },
        "id": "GASookld2LJT",
        "outputId": "a5bcd4dd-1931-4c25-f871-1293fa90fd1b"
      },
      "source": [
        "a=np.linspace(-3,3,90)\n",
        "a\n"
      ],
      "execution_count": null,
      "outputs": [
        {
          "output_type": "execute_result",
          "data": {
            "text/plain": [
              "array([-3.        , -2.93258427, -2.86516854, -2.79775281, -2.73033708,\n",
              "       -2.66292135, -2.59550562, -2.52808989, -2.46067416, -2.39325843,\n",
              "       -2.3258427 , -2.25842697, -2.19101124, -2.12359551, -2.05617978,\n",
              "       -1.98876404, -1.92134831, -1.85393258, -1.78651685, -1.71910112,\n",
              "       -1.65168539, -1.58426966, -1.51685393, -1.4494382 , -1.38202247,\n",
              "       -1.31460674, -1.24719101, -1.17977528, -1.11235955, -1.04494382,\n",
              "       -0.97752809, -0.91011236, -0.84269663, -0.7752809 , -0.70786517,\n",
              "       -0.64044944, -0.57303371, -0.50561798, -0.43820225, -0.37078652,\n",
              "       -0.30337079, -0.23595506, -0.16853933, -0.1011236 , -0.03370787,\n",
              "        0.03370787,  0.1011236 ,  0.16853933,  0.23595506,  0.30337079,\n",
              "        0.37078652,  0.43820225,  0.50561798,  0.57303371,  0.64044944,\n",
              "        0.70786517,  0.7752809 ,  0.84269663,  0.91011236,  0.97752809,\n",
              "        1.04494382,  1.11235955,  1.17977528,  1.24719101,  1.31460674,\n",
              "        1.38202247,  1.4494382 ,  1.51685393,  1.58426966,  1.65168539,\n",
              "        1.71910112,  1.78651685,  1.85393258,  1.92134831,  1.98876404,\n",
              "        2.05617978,  2.12359551,  2.19101124,  2.25842697,  2.3258427 ,\n",
              "        2.39325843,  2.46067416,  2.52808989,  2.59550562,  2.66292135,\n",
              "        2.73033708,  2.79775281,  2.86516854,  2.93258427,  3.        ])"
            ]
          },
          "metadata": {},
          "execution_count": 54
        }
      ]
    },
    {
      "cell_type": "code",
      "metadata": {
        "colab": {
          "base_uri": "https://localhost:8080/",
          "height": 283
        },
        "id": "14OqBWnJ2iO8",
        "outputId": "60e218aa-c140-4928-989c-4ce77fb66ae2"
      },
      "source": [
        "plt.plot(a,f(a),\"g\",linewidth=3)"
      ],
      "execution_count": null,
      "outputs": [
        {
          "output_type": "execute_result",
          "data": {
            "text/plain": [
              "[<matplotlib.lines.Line2D at 0x7fab486a9750>]"
            ]
          },
          "metadata": {},
          "execution_count": 55
        },
        {
          "output_type": "display_data",
          "data": {
            "image/png": "[encoded data removed]",
            "text/plain": [
              "<Figure size 432x288 with 1 Axes>"
            ]
          },
          "metadata": {
            "needs_background": "light"
          }
        }
      ]
    },
    {
      "cell_type": "markdown",
      "metadata": {
        "id": "rbWHtDIDXKlw"
      },
      "source": [
        "## Task 2:\n",
        "<p><ul>\n",
        "<li> Find a function $g(x)$ (preferably rational function) such that <br> $\\lim_{x \\to 0^{-}} g(x) = \\infty$ </li>\n",
        "<li> Show that the limit is infinity (by making a table of values) </li>\n",
        "<li> Draw the graph of the function in the interval $[-3,3]$ </li></ul></p>"
      ]
    },
    {
      "cell_type": "code",
      "metadata": {
        "colab": {
          "base_uri": "https://localhost:8080/"
        },
        "id": "zyBfHBjZ4-fN",
        "outputId": "3b33f85d-7f92-445b-98dd-083a2f9bc6a0"
      },
      "source": [
        "g= sym.lambdify (x, 1/(x**3))\n",
        "for value in values:\n",
        "  print(g(value))\n"
      ],
      "execution_count": null,
      "outputs": [
        {
          "output_type": "stream",
          "name": "stdout",
          "text": [
            "-1.0\n",
            "-999.9999999999999\n",
            "-999999.9999999999\n",
            "-999999999.9999999\n",
            "-999999999999.9999\n",
            "-999999999999999.8\n",
            "inf\n",
            "999999999999999.8\n",
            "999999999999.9999\n",
            "999999999.9999999\n",
            "999999.9999999999\n",
            "999.9999999999999\n",
            "1.0\n"
          ]
        },
        {
          "output_type": "stream",
          "name": "stderr",
          "text": [
            "<string>:2: RuntimeWarning: divide by zero encountered in double_scalars\n"
          ]
        }
      ]
    },
    {
      "cell_type": "code",
      "metadata": {
        "colab": {
          "base_uri": "https://localhost:8080/",
          "height": 283
        },
        "id": "FaAf73im6qBH",
        "outputId": "742bd17d-553b-4eb8-922f-686a26242741"
      },
      "source": [
        "b=np.linspace(-3,3,70)\n",
        "plt.plot(b, g(b), \"b\")"
      ],
      "execution_count": null,
      "outputs": [
        {
          "output_type": "execute_result",
          "data": {
            "text/plain": [
              "[<matplotlib.lines.Line2D at 0x7fab4869e250>]"
            ]
          },
          "metadata": {},
          "execution_count": 57
        },
        {
          "output_type": "display_data",
          "data": {
            "image/png": "[encoded data removed]",
            "text/plain": [
              "<Figure size 432x288 with 1 Axes>"
            ]
          },
          "metadata": {
            "needs_background": "light"
          }
        }
      ]
    },
    {
      "cell_type": "markdown",
      "metadata": {
        "id": "lr8QK5GdXKlw"
      },
      "source": [
        ""
      ]
    },
    {
      "cell_type": "markdown",
      "metadata": {
        "id": "1iO2D2OIXKlw"
      },
      "source": [
        "## Task 3:\n",
        "<p>Now evaluate the limit (by making table of values and drawing the graph)<br> $\\lim_{x \\to 0^{-}} {(1+f(x))}^{g(x)}$</p>"
      ]
    },
    {
      "cell_type": "code",
      "metadata": {
        "id": "N46psuDCXKlx",
        "colab": {
          "base_uri": "https://localhost:8080/"
        },
        "outputId": "d0ca6989-c46b-41c6-ac0e-b2558f997a23"
      },
      "source": [
        "h=sym.lambdify(x,1+(f(x))**g(x))\n",
        "for value in values:\n",
        "  print(h(value))"
      ],
      "execution_count": null,
      "outputs": [
        {
          "output_type": "stream",
          "name": "stdout",
          "text": [
            "1.0\n",
            "nan\n",
            "nan\n",
            "nan\n",
            "nan\n",
            "nan\n",
            "1.0\n",
            "1.0\n",
            "1.0\n",
            "1.0\n",
            "1.0\n",
            "1.0\n",
            "1.5\n"
          ]
        },
        {
          "output_type": "stream",
          "name": "stderr",
          "text": [
            "<string>:2: RuntimeWarning: divide by zero encountered in double_scalars\n",
            "<string>:2: RuntimeWarning: invalid value encountered in double_scalars\n"
          ]
        }
      ]
    },
    {
      "cell_type": "code",
      "metadata": {
        "colab": {
          "base_uri": "https://localhost:8080/",
          "height": 300
        },
        "id": "j14m-4VM_I55",
        "outputId": "ba4d3374-0b68-4df8-a94f-47090cc7a5e2"
      },
      "source": [
        "c = np.linspace(-3,3,60)\n",
        "plt.plot(c, h(c))"
      ],
      "execution_count": null,
      "outputs": [
        {
          "output_type": "stream",
          "name": "stderr",
          "text": [
            "<string>:2: RuntimeWarning: invalid value encountered in power\n"
          ]
        },
        {
          "output_type": "execute_result",
          "data": {
            "text/plain": [
              "[<matplotlib.lines.Line2D at 0x7fab4963f490>]"
            ]
          },
          "metadata": {},
          "execution_count": 59
        },
        {
          "output_type": "display_data",
          "data": {
            "image/png": "[encoded data removed]",
            "text/plain": [
              "<Figure size 432x288 with 1 Axes>"
            ]
          },
          "metadata": {
            "needs_background": "light"
          }
        }
      ]
    },
    {
      "cell_type": "code",
      "metadata": {
        "id": "2YywsoBN-lQC"
      },
      "source": [
        ""
      ],
      "execution_count": null,
      "outputs": []
    },
    {
      "cell_type": "markdown",
      "metadata": {
        "id": "oIcVcJaLXKlx"
      },
      "source": [
        "## Task 4:\n",
        "<p>Evaluate the following expression (by making table of values):<br> $e^{\\lim_{x \\to 0^{-}} {f(x) \\cdot g(x)}}$"
      ]
    },
    {
      "cell_type": "code",
      "metadata": {
        "id": "JPVNCTP8XKly",
        "colab": {
          "base_uri": "https://localhost:8080/"
        },
        "outputId": "c261bd77-c8c8-4db4-c05b-c7482b0660fe"
      },
      "source": [
        "k=sym.lambdify(x,f(x)*g(x))\n",
        "for value in values:\n",
        "  print(np.exp(k(value)))\n"
      ],
      "execution_count": null,
      "outputs": [
        {
          "output_type": "stream",
          "name": "stdout",
          "text": [
            "inf\n",
            "1.7986324882228637e+48\n",
            "inf\n",
            "inf\n",
            "inf\n",
            "inf\n",
            "inf\n",
            "inf\n",
            "inf\n",
            "inf\n",
            "inf\n",
            "3.029120405985163e+39\n",
            "1.6487212707001282\n"
          ]
        },
        {
          "output_type": "stream",
          "name": "stderr",
          "text": [
            "<string>:2: RuntimeWarning: divide by zero encountered in double_scalars\n",
            "/usr/local/lib/python3.7/dist-packages/ipykernel_launcher.py:3: RuntimeWarning: overflow encountered in exp\n",
            "  This is separate from the ipykernel package so we can avoid doing imports until\n"
          ]
        }
      ]
    },
    {
      "cell_type": "markdown",
      "metadata": {
        "id": "rzufzVGaXKly"
      },
      "source": [
        "## Task 5\n",
        "<p> What do you think? Are these two expressions in Task3 and Task 4 equal? Explain briefly.</p>"
      ]
    },
    {
      "cell_type": "code",
      "metadata": {
        "id": "dX2ZH4buDxGz"
      },
      "source": [
        "They are not equal because e^(x,f(x)*g(x)) is not equal to,according to \"Python\"\n",
        "According to calculator they are equal."
      ],
      "execution_count": null,
      "outputs": []
    },
    {
      "cell_type": "markdown",
      "metadata": {
        "id": "hsq7l8UbXKlz"
      },
      "source": [
        ""
      ]
    },
    {
      "cell_type": "markdown",
      "metadata": {
        "id": "hFjqAgwrXKlz"
      },
      "source": [
        "## Task 6\n",
        "<p> Use <b>sympy</b> library's built in function to calculate the limits to check your solutions.<br><a href=https://www.sympy.org/en/index.html>Click to read the documentation.</a></p>"
      ]
    },
    {
      "cell_type": "code",
      "metadata": {
        "id": "rwd4kJPyXKlz",
        "colab": {
          "base_uri": "https://localhost:8080/",
          "height": 37
        },
        "outputId": "99f3a18d-063b-4d91-d217-ca069336089e"
      },
      "source": [
        "sym.limit(1+(f(x))**g(x), x, 0, dir=\"-\")"
      ],
      "execution_count": null,
      "outputs": [
        {
          "output_type": "execute_result",
          "data": {
            "text/latex": "$\\displaystyle \\infty$",
            "text/plain": [
              "oo"
            ]
          },
          "metadata": {},
          "execution_count": 72
        }
      ]
    },
    {
      "cell_type": "code",
      "metadata": {
        "colab": {
          "base_uri": "https://localhost:8080/"
        },
        "id": "ZpjeJcLMLuMJ",
        "outputId": "837dcbbf-9037-43ba-a988-1ac7494fbd90"
      },
      "source": [
        "t=sym.limit(f(x)*g(x),x,0,dir=\"-\")\n",
        "print(math.exp(t))\n"
      ],
      "execution_count": null,
      "outputs": [
        {
          "output_type": "stream",
          "name": "stdout",
          "text": [
            "inf\n"
          ]
        }
      ]
    },
    {
      "cell_type": "code",
      "metadata": {
        "id": "kqiTZSSsMT75"
      },
      "source": [
        ""
      ],
      "execution_count": null,
      "outputs": []
    }
  ]
}