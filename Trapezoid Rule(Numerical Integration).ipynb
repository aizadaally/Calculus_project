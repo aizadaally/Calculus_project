{
 "cells": [
  {
   "cell_type": "code",
   "execution_count": 55,
   "id": "0a64e348",
   "metadata": {},
   "outputs": [],
   "source": [
    "import numpy as np\n",
    "import sympy as sym\n",
    "import matplotlib.pyplot as plt\n",
    "%matplotlib inline\n",
    "from sympy.abc import x"
   ]
  },
  {
   "cell_type": "code",
   "execution_count": 56,
   "id": "27bff641",
   "metadata": {},
   "outputs": [
    {
     "name": "stdout",
     "output_type": "stream",
     "text": [
      "x**2\n"
     ]
    }
   ],
   "source": [
    "f = input()"
   ]
  },
  {
   "cell_type": "code",
   "execution_count": 57,
   "id": "4b75c97d",
   "metadata": {},
   "outputs": [
    {
     "data": {
      "text/plain": [
       "'x**2'"
      ]
     },
     "execution_count": 57,
     "metadata": {},
     "output_type": "execute_result"
    }
   ],
   "source": [
    "f"
   ]
  },
  {
   "cell_type": "code",
   "execution_count": 58,
   "id": "9f8d83e4",
   "metadata": {},
   "outputs": [],
   "source": [
    "fsym = sym.sympify(f)"
   ]
  },
  {
   "cell_type": "code",
   "execution_count": 59,
   "id": "93866817",
   "metadata": {},
   "outputs": [
    {
     "data": {
      "text/latex": [
       "$\\displaystyle x^{2}$"
      ],
      "text/plain": [
       "x**2"
      ]
     },
     "execution_count": 59,
     "metadata": {},
     "output_type": "execute_result"
    }
   ],
   "source": [
    "fsym"
   ]
  },
  {
   "cell_type": "code",
   "execution_count": 60,
   "id": "97381f85",
   "metadata": {},
   "outputs": [],
   "source": [
    "flam = sym.lambdify(x,f)"
   ]
  },
  {
   "cell_type": "code",
   "execution_count": 61,
   "id": "c20e15fe",
   "metadata": {},
   "outputs": [
    {
     "data": {
      "text/plain": [
       "4"
      ]
     },
     "execution_count": 61,
     "metadata": {},
     "output_type": "execute_result"
    }
   ],
   "source": [
    "flam(2)"
   ]
  },
  {
   "cell_type": "code",
   "execution_count": 62,
   "id": "fdb0da3b",
   "metadata": {},
   "outputs": [
    {
     "name": "stdout",
     "output_type": "stream",
     "text": [
      "0 5\n"
     ]
    }
   ],
   "source": [
    "a, b = input().split()"
   ]
  },
  {
   "cell_type": "code",
   "execution_count": 63,
   "id": "e0088156",
   "metadata": {},
   "outputs": [],
   "source": [
    "a = int(a)"
   ]
  },
  {
   "cell_type": "code",
   "execution_count": 64,
   "id": "eda36eab",
   "metadata": {},
   "outputs": [],
   "source": [
    "b = int(b)"
   ]
  },
  {
   "cell_type": "code",
   "execution_count": 65,
   "id": "44df545d",
   "metadata": {},
   "outputs": [
    {
     "name": "stdout",
     "output_type": "stream",
     "text": [
      "5\n"
     ]
    }
   ],
   "source": [
    "n = input()"
   ]
  },
  {
   "cell_type": "code",
   "execution_count": 66,
   "id": "a63ead12",
   "metadata": {},
   "outputs": [],
   "source": [
    "n = int(n)"
   ]
  },
  {
   "cell_type": "code",
   "execution_count": 67,
   "id": "c34358ec",
   "metadata": {},
   "outputs": [],
   "source": [
    "dx = (b-a)/n"
   ]
  },
  {
   "cell_type": "code",
   "execution_count": 68,
   "id": "5cc05950",
   "metadata": {},
   "outputs": [
    {
     "data": {
      "text/plain": [
       "1.0"
      ]
     },
     "execution_count": 68,
     "metadata": {},
     "output_type": "execute_result"
    }
   ],
   "source": [
    "dx"
   ]
  },
  {
   "cell_type": "code",
   "execution_count": 69,
   "id": "8a5fb599",
   "metadata": {},
   "outputs": [],
   "source": [
    "sum1 =0\n",
    "i = 0    "
   ]
  },
  {
   "cell_type": "code",
   "execution_count": 70,
   "id": "a644bd8e",
   "metadata": {},
   "outputs": [],
   "source": [
    "xi = []\n",
    "for i in range (n+1):\n",
    "    xi.append(a + i * dx)"
   ]
  },
  {
   "cell_type": "code",
   "execution_count": 71,
   "id": "ec2e7b38",
   "metadata": {},
   "outputs": [
    {
     "data": {
      "text/plain": [
       "[0.0, 1.0, 2.0, 3.0, 4.0, 5.0]"
      ]
     },
     "execution_count": 71,
     "metadata": {},
     "output_type": "execute_result"
    }
   ],
   "source": [
    "xi"
   ]
  },
  {
   "cell_type": "code",
   "execution_count": 72,
   "id": "9d07b919",
   "metadata": {},
   "outputs": [],
   "source": [
    "t= []\n",
    "for i in range (n):\n",
    "    t.append((flam(xi[i])+flam(xi[i+1]))*dx/2)\n"
   ]
  },
  {
   "cell_type": "code",
   "execution_count": 73,
   "id": "02f2964b",
   "metadata": {},
   "outputs": [
    {
     "data": {
      "text/plain": [
       "[0.5, 2.5, 6.5, 12.5, 20.5]"
      ]
     },
     "execution_count": 73,
     "metadata": {},
     "output_type": "execute_result"
    }
   ],
   "source": [
    "t"
   ]
  },
  {
   "cell_type": "code",
   "execution_count": null,
   "id": "abfd12d2",
   "metadata": {},
   "outputs": [],
   "source": []
  },
  {
   "cell_type": "code",
   "execution_count": 78,
   "id": "f78ff1d3",
   "metadata": {},
   "outputs": [],
   "source": [
    "sum1 = 0\n",
    "for i in range(n):\n",
    "    if i != 0 or i != n:\n",
    "        sum1+= 2*t[i] * dx/2\n",
    "    else:\n",
    "        sum1+= t[i]* dx/2"
   ]
  },
  {
   "cell_type": "code",
   "execution_count": 79,
   "id": "f7b7650a",
   "metadata": {},
   "outputs": [
    {
     "data": {
      "text/plain": [
       "42.5"
      ]
     },
     "execution_count": 79,
     "metadata": {},
     "output_type": "execute_result"
    }
   ],
   "source": [
    "sum1"
   ]
  }
 ],
 "metadata": {
  "kernelspec": {
   "display_name": "Python 3 (ipykernel)",
   "language": "python",
   "name": "python3"
  },
  "language_info": {
   "codemirror_mode": {
    "name": "ipython",
    "version": 3
   },
   "file_extension": ".py",
   "mimetype": "text/x-python",
   "name": "python",
   "nbconvert_exporter": "python",
   "pygments_lexer": "ipython3",
   "version": "3.8.10"
  }
 },
 "nbformat": 4,
 "nbformat_minor": 5
}
