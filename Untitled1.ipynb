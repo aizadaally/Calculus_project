{
 "cells": [
  {
   "cell_type": "code",
   "execution_count": 1,
   "id": "9a4e8375",
   "metadata": {},
   "outputs": [],
   "source": [
    "import numpy as np \n",
    "import sympy as sim\n",
    "import matplotlib.pyplot as aizada\n",
    "%matplotlib inline\n",
    "from sympy.abc import x`"
   ]
  },
  {
   "cell_type": "code",
   "execution_count": 2,
   "id": "a9427725",
   "metadata": {},
   "outputs": [],
   "source": [
    "f= x**2"
   ]
  },
  {
   "cell_type": "code",
   "execution_count": null,
   "id": "fd8427a0",
   "metadata": {},
   "outputs": [],
   "source": []
  }
 ],
 "metadata": {
  "kernelspec": {
   "display_name": "Python 3",
   "language": "python",
   "name": "python3"
  },
  "language_info": {
   "codemirror_mode": {
    "name": "ipython",
    "version": 3
   },
   "file_extension": ".py",
   "mimetype": "text/x-python",
   "name": "python",
   "nbconvert_exporter": "python",
   "pygments_lexer": "ipython3",
   "version": "3.8.8"
  }
 },
 "nbformat": 4,
 "nbformat_minor": 5
}
